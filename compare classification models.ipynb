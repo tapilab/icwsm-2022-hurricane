{
 "cells": [
  {
   "cell_type": "markdown",
   "metadata": {},
   "source": [
    "- [Logistic Regression](#logistic-regression)\n",
    "- [LSTM](#LSTM)\n",
    "- [GloVe](#GloVe)\n",
    "- [BERT](#BERT)"
   ]
  },
  {
   "cell_type": "code",
   "execution_count": 1,
   "metadata": {},
   "outputs": [],
   "source": [
    "import pandas as pd\n",
    "import numpy as np\n",
    "import matplotlib.pyplot as plt\n",
    "import json\n",
    "from tqdm import tqdm\n",
    "from IPython.display import HTML, display\n",
    "%matplotlib inline"
   ]
  },
  {
   "cell_type": "markdown",
   "metadata": {},
   "source": [
    "#### read data"
   ]
  },
  {
   "cell_type": "code",
   "execution_count": 2,
   "metadata": {},
   "outputs": [],
   "source": [
    "data_dir = ''\n",
    "labeled_file = 'labeled_5000.csv'"
   ]
  },
  {
   "cell_type": "code",
   "execution_count": 3,
   "metadata": {},
   "outputs": [
    {
     "data": {
      "text/html": [
       "<div>\n",
       "<style scoped>\n",
       "    .dataframe tbody tr th:only-of-type {\n",
       "        vertical-align: middle;\n",
       "    }\n",
       "\n",
       "    .dataframe tbody tr th {\n",
       "        vertical-align: top;\n",
       "    }\n",
       "\n",
       "    .dataframe thead th {\n",
       "        text-align: right;\n",
       "    }\n",
       "</style>\n",
       "<table border=\"1\" class=\"dataframe\">\n",
       "  <thead>\n",
       "    <tr style=\"text-align: right;\">\n",
       "      <th></th>\n",
       "      <th>tweet_id</th>\n",
       "      <th>user_id</th>\n",
       "      <th>user_screen_name</th>\n",
       "      <th>user_location</th>\n",
       "      <th>tweet_time</th>\n",
       "      <th>text</th>\n",
       "      <th>tweet_place_type</th>\n",
       "      <th>tweet_place_name</th>\n",
       "      <th>tweet_lat</th>\n",
       "      <th>tweet_lon</th>\n",
       "      <th>FL_tweet</th>\n",
       "      <th>label</th>\n",
       "    </tr>\n",
       "  </thead>\n",
       "  <tbody>\n",
       "    <tr>\n",
       "      <th>0</th>\n",
       "      <td>908320755267633152</td>\n",
       "      <td>878812612972208128</td>\n",
       "      <td>123sheesh</td>\n",
       "      <td>Palm Beach, FL</td>\n",
       "      <td>2017-09-14 13:25:18</td>\n",
       "      <td>Leaving Palm beach had fun wit the family time...</td>\n",
       "      <td>NaN</td>\n",
       "      <td>NaN</td>\n",
       "      <td>NaN</td>\n",
       "      <td>NaN</td>\n",
       "      <td>True</td>\n",
       "      <td>neutral</td>\n",
       "    </tr>\n",
       "    <tr>\n",
       "      <th>1</th>\n",
       "      <td>906601171116273665</td>\n",
       "      <td>293673877</td>\n",
       "      <td>1tymefl</td>\n",
       "      <td>lehigh acres Fl</td>\n",
       "      <td>2017-09-09 19:32:17</td>\n",
       "      <td>I am not in an evacuation Zone, this is my pre...</td>\n",
       "      <td>NaN</td>\n",
       "      <td>NaN</td>\n",
       "      <td>NaN</td>\n",
       "      <td>NaN</td>\n",
       "      <td>True</td>\n",
       "      <td>negative</td>\n",
       "    </tr>\n",
       "  </tbody>\n",
       "</table>\n",
       "</div>"
      ],
      "text/plain": [
       "             tweet_id             user_id user_screen_name    user_location  \\\n",
       "0  908320755267633152  878812612972208128        123sheesh   Palm Beach, FL   \n",
       "1  906601171116273665           293673877          1tymefl  lehigh acres Fl   \n",
       "\n",
       "            tweet_time                                               text  \\\n",
       "0  2017-09-14 13:25:18  Leaving Palm beach had fun wit the family time...   \n",
       "1  2017-09-09 19:32:17  I am not in an evacuation Zone, this is my pre...   \n",
       "\n",
       "   tweet_place_type tweet_place_name  tweet_lat  tweet_lon  FL_tweet     label  \n",
       "0               NaN              NaN        NaN        NaN      True   neutral  \n",
       "1               NaN              NaN        NaN        NaN      True  negative  "
      ]
     },
     "execution_count": 3,
     "metadata": {},
     "output_type": "execute_result"
    }
   ],
   "source": [
    "labeled_tweets = pd.read_csv(data_dir + labeled_file, dtype={'tweet_id': str, 'user_id': str})\n",
    "labeled_tweets.head(2)"
   ]
  },
  {
   "cell_type": "code",
   "execution_count": 4,
   "metadata": {},
   "outputs": [
    {
     "data": {
      "text/plain": [
       "neutral     2006\n",
       "positive    1727\n",
       "negative    1267\n",
       "Name: label, dtype: int64"
      ]
     },
     "execution_count": 4,
     "metadata": {},
     "output_type": "execute_result"
    }
   ],
   "source": [
    "labeled_tweets.label.value_counts()"
   ]
  },
  {
   "cell_type": "code",
   "execution_count": 5,
   "metadata": {},
   "outputs": [
    {
     "name": "stdout",
     "output_type": "stream",
     "text": [
      "1871\n",
      "1504\n",
      "1163\n",
      "4332\n"
     ]
    }
   ],
   "source": [
    "print(len(set(labeled_tweets[labeled_tweets.label == 'neutral'].user_screen_name)))\n",
    "print(len(set(labeled_tweets[labeled_tweets.label == 'positive'].user_screen_name)))\n",
    "print(len(set(labeled_tweets[labeled_tweets.label == 'negative'].user_screen_name)))\n",
    "print(len(set(labeled_tweets.user_screen_name)))"
   ]
  },
  {
   "cell_type": "markdown",
   "metadata": {},
   "source": [
    "#### tokenize"
   ]
  },
  {
   "cell_type": "code",
   "execution_count": 6,
   "metadata": {},
   "outputs": [],
   "source": [
    "import re\n",
    "from emoji_function import demojize\n",
    "import string\n",
    "\n",
    "def tokenize(text, lower=True, neg_hack=False):\n",
    "    text = demojize(str(text))\n",
    "    if lower:\n",
    "        text = text.lower()\n",
    "    text = re.sub(r'#(\\S+)', r'HASHTAG_\\1', text)\n",
    "    text = re.sub(r'@(\\S+)', r'MENTION_\\1', text)\n",
    "    text = re.sub(r'http\\S+', ' ', text) # ignore url\n",
    "    text = re.sub(r'(.)\\1\\1\\1+', r'\\1', text) # collapse repeating characters\n",
    "    text = re.sub(r'[0-9]+', '9', text) # collapse numbers\n",
    "    if neg_hack:\n",
    "        text = re.sub(r'\\b((ai|are|were|have|can?|[wd]o|\\w+[sd]|)?n[o\\']?t) +(\\w+)\\b', r'NOT_\\3', text) # negation hack\n",
    "    toks = [t.strip(string.punctuation).strip() for t in text.split()]\n",
    "    toks = [t for t in toks if len(t) > 0]\n",
    "    return ' '.join(toks)"
   ]
  },
  {
   "cell_type": "markdown",
   "metadata": {},
   "source": [
    "#### vectorize"
   ]
  },
  {
   "cell_type": "code",
   "execution_count": 7,
   "metadata": {},
   "outputs": [],
   "source": [
    "from sklearn.feature_extraction.text import CountVectorizer, TfidfVectorizer\n",
    "\n",
    "def featurize(tweets, tfidf=False):\n",
    "    vec = CountVectorizer(min_df=2, max_df=.5, ngram_range=(1, 2), token_pattern=r'(?u)\\b\\w+\\'?\\w+\\b', lowercase=False, binary=True)\n",
    "    if tfidf:\n",
    "        vec = TfidfVectorizer(min_df=2, max_df=.5, ngram_range=(1, 2), token_pattern=r'(?u)\\b\\w+\\'?\\w+\\b', lowercase=False, sublinear_tf=True)\n",
    "    metas = []\n",
    "\n",
    "    X = vec.fit_transform(tokenize(twt.text, neg_hack=True) for i, twt in tqdm(tweets.iterrows())\n",
    "                          if not metas.append(dict(user=twt.user_screen_name, time=twt.tweet_time, label=twt.label)))\n",
    "    y = np.array([m['label'] for m in metas])\n",
    "    return X, y, vec, metas"
   ]
  },
  {
   "cell_type": "markdown",
   "metadata": {},
   "source": [
    "#### logistic regression"
   ]
  },
  {
   "cell_type": "code",
   "execution_count": 155,
   "metadata": {},
   "outputs": [],
   "source": [
    "from collections import Counter\n",
    "from sklearn.linear_model import LogisticRegression\n",
    "from sklearn.metrics import accuracy_score, classification_report, confusion_matrix, f1_score, precision_score, recall_score, roc_auc_score, fbeta_score\n",
    "from sklearn.model_selection import StratifiedKFold\n",
    "\n",
    "def print_top_terms(clf, vec, n=50):\n",
    "    feats = np.array(vec.get_feature_names())\n",
    "    if len(clf.classes_) == 2:\n",
    "        coefs = [-clf.coef_[0], clf.coef_[0]]\n",
    "    else:\n",
    "        coefs = clf.coef_\n",
    "    for li, label in enumerate(clf.classes_):\n",
    "        print('\\nclass %s' % label)\n",
    "        coef = coefs[li]\n",
    "        top_coef_ind = np.argsort(coef)[::-1][:n]\n",
    "        top_coef_terms = feats[top_coef_ind]\n",
    "        top_coef = coef[top_coef_ind]\n",
    "        print('\\n'.join(['%s\\t%.3f' % (term, weight) for term, weight in zip(top_coef_terms, top_coef)]))    \n",
    "\n",
    "# cv accuracy\n",
    "def do_cv(X, y):\n",
    "    cv = StratifiedKFold(n_splits=10, shuffle=True, random_state=42)\n",
    "    truths = y.copy()\n",
    "    preds = y.copy()\n",
    "    probas = np.zeros((len(y), 3))\n",
    "    clf = LogisticRegression(class_weight='balanced', max_iter=1000, solver='liblinear')\n",
    "    for train, test in cv.split(X, y):\n",
    "        clf.fit(X[train], y[train])\n",
    "        preds[test] = clf.predict(X[test])\n",
    "        truths[test] = y[test]\n",
    "        probas[test] = clf.predict_proba(X[test])#[:,-1]\n",
    "\n",
    "    print(Counter(truths))\n",
    "    print(Counter(preds))\n",
    "    print(classification_report(truths, preds, target_names=clf.classes_))\n",
    "    print('auc=%.3f (positive vs others)' % roc_auc_score(truths == 'positive', probas[:,-1]))\n",
    "    print('auc=%.3f (negative vs others)' % roc_auc_score(truths == 'negative', probas[:,0]))\n",
    "    print('auc=%.3f (weighted ovr)' % roc_auc_score(truths, probas, average='weighted', multi_class='ovr', labels=clf.classes_))\n",
    "    return preds, probas\n",
    "\n",
    "def run_expt(tweets):\n",
    "    X,y,vec,metas = featurize(tweets)\n",
    "    clf = LogisticRegression(solver='liblinear')\n",
    "    clf.fit(X, y)\n",
    "    print_top_terms(clf, vec, n=50)\n",
    "    preds, probas = do_cv(X,y)\n",
    "    return X,y,vec,metas,clf,preds,probas\n",
    "\n",
    "def tweets_before_landfall(tweets):\n",
    "    return tweets[tweets.tweet_time < '2017-09-10 13:00:00']"
   ]
  },
  {
   "cell_type": "code",
   "execution_count": 156,
   "metadata": {},
   "outputs": [],
   "source": [
    "def run_expt_(tweets):\n",
    "    X,y,vec,metas = featurize(tweets)\n",
    "    preds, probas = do_cv(X, y)"
   ]
  },
  {
   "cell_type": "code",
   "execution_count": 167,
   "metadata": {},
   "outputs": [
    {
     "name": "stderr",
     "output_type": "stream",
     "text": [
      "5000it [00:01, 2825.30it/s]\n"
     ]
    },
    {
     "name": "stdout",
     "output_type": "stream",
     "text": [
      "Counter({'neutral': 2006, 'positive': 1727, 'negative': 1267})\n",
      "Counter({'positive': 1833, 'neutral': 1809, 'negative': 1358})\n",
      "              precision    recall  f1-score   support\n",
      "\n",
      "    negative       0.79      0.85      0.82      1267\n",
      "     neutral       0.81      0.73      0.77      2006\n",
      "    positive       0.78      0.83      0.81      1727\n",
      "\n",
      "    accuracy                           0.79      5000\n",
      "   macro avg       0.79      0.80      0.80      5000\n",
      "weighted avg       0.79      0.79      0.79      5000\n",
      "\n",
      "auc=0.922 (positive vs others)\n",
      "auc=0.951 (negative vs others)\n",
      "auc=0.913 (weighted ovr)\n"
     ]
    }
   ],
   "source": [
    "run_expt_(labeled_tweets.iloc[:5000])"
   ]
  },
  {
   "cell_type": "code",
   "execution_count": 27,
   "metadata": {},
   "outputs": [
    {
     "name": "stderr",
     "output_type": "stream",
     "text": [
      "5000it [00:01, 2742.55it/s]\n"
     ]
    },
    {
     "name": "stdout",
     "output_type": "stream",
     "text": [
      "\n",
      "class negative\n",
      "NOT_evacuating\t2.618\n",
      "NOT_leaving\t2.335\n",
      "NOT_evacuate\t2.326\n",
      "NOT_fucking leaving\t2.214\n",
      "supplies\t2.104\n",
      "NOT_fucking\t2.083\n",
      "i'm staying\t1.592\n",
      "im\t1.456\n",
      "staying\t1.391\n",
      "we\t1.368\n",
      "i'm NOT_evacuating\t1.294\n",
      "i'm\t1.273\n",
      "NOT_leaving florida\t1.248\n",
      "NOT_think\t1.235\n",
      "NOT_leave my\t1.216\n",
      "NOT_in\t1.189\n",
      "NOT_leave\t1.149\n",
      "glad NOT_leave\t1.148\n",
      "in my\t1.126\n",
      "next\t1.118\n",
      "no\t1.093\n",
      "NOT_think we're\t1.063\n",
      "fam\t1.052\n",
      "we NOT_leave\t1.026\n",
      "friends are\t1.019\n",
      "am\t1.017\n",
      "here\t0.986\n",
      "that's why\t0.974\n",
      "that we\t0.973\n",
      "of my\t0.970\n",
      "board\t0.963\n",
      "fuck\t0.953\n",
      "we're staying\t0.945\n",
      "family\t0.943\n",
      "NOT_go\t0.937\n",
      "HASHTAG_floridastrong\t0.925\n",
      "way i'm\t0.876\n",
      "NOT_leave i'm\t0.847\n",
      "leave so\t0.839\n",
      "NOT_evacuate either\t0.839\n",
      "curfew\t0.836\n",
      "ride\t0.832\n",
      "emoji_loudly_crying_face emoji_loudly_crying_face\t0.823\n",
      "we NOT_evacuate\t0.821\n",
      "evacuating so\t0.811\n",
      "secure\t0.810\n",
      "stay\t0.808\n",
      "hurricane i'm\t0.807\n",
      "we're\t0.804\n",
      "storm i'm\t0.796\n",
      "\n",
      "class neutral\n",
      "alone\t1.470\n",
      "is evacuating\t1.408\n",
      "leave\t1.368\n",
      "they\t1.363\n",
      "if\t1.362\n",
      "about evacuating\t1.350\n",
      "county\t1.346\n",
      "NOT_leave me\t1.190\n",
      "whole\t1.168\n",
      "evacuating or\t1.129\n",
      "leaving_9\t1.123\n",
      "disney\t1.119\n",
      "your\t1.090\n",
      "evacuating we\t1.077\n",
      "if we\t1.071\n",
      "or\t1.048\n",
      "college\t1.040\n",
      "NOT_escape\t1.011\n",
      "is NOT_evacuating\t0.999\n",
      "their\t0.993\n",
      "till\t0.992\n",
      "head\t0.979\n",
      "i'm so\t0.972\n",
      "his\t0.946\n",
      "debating\t0.942\n",
      "you NOT_evacuate\t0.939\n",
      "we may\t0.936\n",
      "my dog\t0.932\n",
      "thinking of\t0.930\n",
      "game\t0.925\n",
      "preparing\t0.922\n",
      "glad i'm\t0.911\n",
      "once\t0.904\n",
      "for this\t0.902\n",
      "families\t0.900\n",
      "without\t0.898\n",
      "NOT_leave your\t0.893\n",
      "throwing\t0.891\n",
      "saying\t0.886\n",
      "you NOT_leave\t0.885\n",
      "from my\t0.879\n",
      "keys\t0.879\n",
      "talking\t0.877\n",
      "call\t0.877\n",
      "irma is\t0.875\n",
      "considering\t0.868\n",
      "you NOT_leaving\t0.867\n",
      "food\t0.865\n",
      "power\t0.852\n",
      "morning now\t0.852\n",
      "\n",
      "class positive\n",
      "evacuating\t2.754\n",
      "had to\t1.785\n",
      "driving\t1.781\n",
      "we are\t1.587\n",
      "i'm evacuating\t1.571\n",
      "escaping\t1.569\n",
      "we're leaving\t1.527\n",
      "georgia\t1.354\n",
      "are leaving\t1.326\n",
      "tomorrow\t1.326\n",
      "planning to\t1.274\n",
      "we're evacuating\t1.217\n",
      "im going\t1.215\n",
      "leaving miami\t1.213\n",
      "leaving tomorrow\t1.200\n",
      "cats\t1.176\n",
      "nc\t1.147\n",
      "packing\t1.132\n",
      "inland\t1.113\n",
      "leaving florida\t1.108\n",
      "im evacuating\t1.084\n",
      "HASHTAG_hurricaineirma\t1.083\n",
      "tonight\t1.083\n",
      "out in\t1.067\n",
      "be with\t1.054\n",
      "be leaving\t1.053\n",
      "emoji_victory_hand emoji_emoji_modifier_fitzpatrick_type__9\t1.007\n",
      "i'm leaving\t1.007\n",
      "orlando\t0.999\n",
      "shift\t0.983\n",
      "we left\t0.982\n",
      "things\t0.956\n",
      "north\t0.937\n",
      "get to\t0.926\n",
      "leave together\t0.912\n",
      "further\t0.910\n",
      "like it\t0.904\n",
      "bless\t0.901\n",
      "hotel\t0.900\n",
      "delayed\t0.895\n",
      "with family\t0.894\n",
      "leaving\t0.892\n",
      "heading\t0.861\n",
      "knowing\t0.861\n",
      "NOT_evacuating florida\t0.853\n",
      "heading to\t0.853\n",
      "the am\t0.852\n",
      "stuff\t0.851\n",
      "will leave\t0.849\n",
      "they think\t0.848\n",
      "Counter({'neutral': 2006, 'positive': 1727, 'negative': 1267})\n",
      "Counter({'positive': 1833, 'neutral': 1809, 'negative': 1358})\n",
      "              precision    recall  f1-score   support\n",
      "\n",
      "    negative       0.79      0.85      0.82      1267\n",
      "     neutral       0.81      0.73      0.77      2006\n",
      "    positive       0.78      0.83      0.81      1727\n",
      "\n",
      "    accuracy                           0.79      5000\n",
      "   macro avg       0.79      0.80      0.80      5000\n",
      "weighted avg       0.79      0.79      0.79      5000\n",
      "\n",
      "auc=0.913 (weighted ovr)\n"
     ]
    }
   ],
   "source": [
    "X,y,vec,metas,clf,preds,probas = run_expt(labeled_tweets)"
   ]
  },
  {
   "cell_type": "code",
   "execution_count": 126,
   "metadata": {
    "scrolled": true
   },
   "outputs": [
    {
     "name": "stderr",
     "output_type": "stream",
     "text": [
      "4138it [00:01, 2670.80it/s]\n"
     ]
    },
    {
     "name": "stdout",
     "output_type": "stream",
     "text": [
      "\n",
      "class negative\n",
      "NOT_evacuating\t2.456\n",
      "NOT_leaving\t2.407\n",
      "NOT_evacuate\t2.256\n",
      "NOT_fucking leaving\t2.124\n",
      "supplies\t2.027\n",
      "NOT_fucking\t1.991\n",
      "i'm\t1.393\n",
      "i'm NOT_evacuating\t1.382\n",
      "i'm staying\t1.368\n",
      "staying\t1.355\n",
      "NOT_leave\t1.263\n",
      "we\t1.223\n",
      "im\t1.219\n",
      "NOT_think\t1.208\n",
      "we NOT_leave\t1.180\n",
      "NOT_leave my\t1.166\n",
      "NOT_in\t1.165\n",
      "NOT_leaving florida\t1.143\n",
      "of my\t1.063\n",
      "no\t1.042\n",
      "NOT_think we're\t1.018\n",
      "for me\t0.991\n",
      "am\t0.987\n",
      "yes\t0.962\n",
      "in my\t0.942\n",
      "next\t0.940\n",
      "my home\t0.938\n",
      "board\t0.936\n",
      "HASHTAG_floridastrong\t0.927\n",
      "fam\t0.927\n",
      "friends are\t0.921\n",
      "fuck\t0.918\n",
      "we're\t0.915\n",
      "here\t0.914\n",
      "way i'm\t0.882\n",
      "emoji_loudly_crying_face emoji_loudly_crying_face\t0.875\n",
      "hurricane i'm\t0.863\n",
      "family\t0.843\n",
      "we're staying\t0.834\n",
      "that we\t0.830\n",
      "NOT_evacuate either\t0.817\n",
      "leave so\t0.808\n",
      "gonna\t0.804\n",
      "secure\t0.796\n",
      "stay\t0.796\n",
      "im NOT_evacuating\t0.778\n",
      "dogs\t0.771\n",
      "evacuating so\t0.770\n",
      "staying put\t0.767\n",
      "after\t0.766\n",
      "\n",
      "class neutral\n",
      "alone\t1.522\n",
      "if\t1.489\n",
      "about evacuating\t1.337\n",
      "is evacuating\t1.315\n",
      "they\t1.307\n",
      "or\t1.171\n",
      "girl\t1.158\n",
      "leave\t1.150\n",
      "if we\t1.121\n",
      "county\t1.116\n",
      "families\t1.092\n",
      "college\t1.080\n",
      "those\t1.070\n",
      "evacuating or\t1.041\n",
      "whole\t1.025\n",
      "NOT_escape\t1.015\n",
      "considering\t1.007\n",
      "your\t1.004\n",
      "leaving_9\t0.992\n",
      "thinking of\t0.976\n",
      "is leaving\t0.969\n",
      "preparing\t0.962\n",
      "my dog\t0.957\n",
      "is NOT_evacuating\t0.944\n",
      "debating\t0.933\n",
      "emoji_thinking_face\t0.895\n",
      "from my\t0.872\n",
      "once\t0.870\n",
      "saying\t0.869\n",
      "you NOT_leaving\t0.868\n",
      "of leaving\t0.858\n",
      "on leaving\t0.853\n",
      "person\t0.840\n",
      "when\t0.838\n",
      "his\t0.836\n",
      "if irma\t0.836\n",
      "for sure\t0.831\n",
      "you\t0.825\n",
      "friends\t0.824\n",
      "understand\t0.823\n",
      "their\t0.821\n",
      "hurricane in\t0.818\n",
      "you NOT_evacuate\t0.818\n",
      "entire\t0.813\n",
      "gonna be\t0.808\n",
      "watching\t0.807\n",
      "if it's\t0.804\n",
      "staff\t0.803\n",
      "what's\t0.800\n",
      "already\t0.799\n",
      "\n",
      "class positive\n",
      "evacuating\t2.534\n",
      "i'm evacuating\t1.731\n",
      "we are\t1.726\n",
      "we're leaving\t1.696\n",
      "driving\t1.645\n",
      "tomorrow\t1.627\n",
      "escaping\t1.415\n",
      "had to\t1.409\n",
      "planning to\t1.315\n",
      "leaving tomorrow\t1.301\n",
      "tonight\t1.281\n",
      "leaving\t1.264\n",
      "we're evacuating\t1.258\n",
      "are leaving\t1.128\n",
      "leaving friday\t1.120\n",
      "im going\t1.114\n",
      "georgia\t1.112\n",
      "im evacuating\t1.077\n",
      "hotel\t1.059\n",
      "cats\t1.049\n",
      "heading\t1.035\n",
      "inland\t1.017\n",
      "with family\t1.009\n",
      "packing\t1.006\n",
      "i'm leaving\t1.002\n",
      "leaving miami\t0.967\n",
      "9am\t0.959\n",
      "nc\t0.958\n",
      "shift\t0.953\n",
      "me i'm\t0.945\n",
      "be with\t0.940\n",
      "get to\t0.930\n",
      "HASHTAG_hurricaineirma\t0.920\n",
      "stuff\t0.912\n",
      "delayed\t0.899\n",
      "so i'm\t0.897\n",
      "bless\t0.874\n",
      "leave together\t0.862\n",
      "planning\t0.859\n",
      "place\t0.849\n",
      "about my\t0.848\n",
      "emoji_victory_hand emoji_emoji_modifier_fitzpatrick_type__9\t0.846\n",
      "god bless\t0.837\n",
      "knowing\t0.830\n",
      "leaving florida\t0.822\n",
      "they think\t0.819\n",
      "night\t0.815\n",
      "orlando\t0.805\n",
      "thank\t0.804\n",
      "leaving in\t0.792\n",
      "Counter({'positive': 1578, 'neutral': 1434, 'negative': 1126})\n",
      "Counter({'positive': 1682, 'neutral': 1245, 'negative': 1211})\n",
      "              precision    recall  f1-score   support\n",
      "\n",
      "    negative       0.80      0.86      0.83      1126\n",
      "     neutral       0.79      0.68      0.73      1434\n",
      "    positive       0.80      0.85      0.83      1578\n",
      "\n",
      "    accuracy                           0.80      4138\n",
      "   macro avg       0.80      0.80      0.80      4138\n",
      "weighted avg       0.80      0.80      0.80      4138\n",
      "\n",
      "auc=0.913 (weighted ovr)\n"
     ]
    }
   ],
   "source": [
    "X,y,vec,metas,clf,preds,probas = run_expt(tweets_before_landfall(labeled_tweets))"
   ]
  },
  {
   "cell_type": "markdown",
   "metadata": {},
   "source": [
    "tf-idf\n",
    "```\n",
    "Counter({'neutral': 2006, 'positive': 1727, 'negative': 1267})\n",
    "Counter({'positive': 1882, 'neutral': 1787, 'negative': 1331})\n",
    "              precision    recall  f1-score   support\n",
    "\n",
    "    negative       0.79      0.83      0.81      1267\n",
    "     neutral       0.81      0.72      0.76      2006\n",
    "    positive       0.78      0.85      0.81      1727\n",
    "\n",
    "    accuracy                           0.79      5000\n",
    "   macro avg       0.79      0.80      0.80      5000\n",
    "weighted avg       0.80      0.79      0.79      5000\n",
    "\n",
    "auc=0.916 (weighted ovr)\n",
    "```\n",
    "tf-idf before landfall\n",
    "```\n",
    "Counter({'positive': 1578, 'neutral': 1434, 'negative': 1126})\n",
    "Counter({'positive': 1746, 'negative': 1196, 'neutral': 1196})\n",
    "              precision    recall  f1-score   support\n",
    "\n",
    "    negative       0.80      0.85      0.83      1126\n",
    "     neutral       0.79      0.66      0.72      1434\n",
    "    positive       0.79      0.87      0.83      1578\n",
    "\n",
    "    accuracy                           0.79      4138\n",
    "   macro avg       0.80      0.80      0.79      4138\n",
    "weighted avg       0.79      0.79      0.79      4138\n",
    "\n",
    "auc=0.918 (weighted ovr)\n",
    "```"
   ]
  },
  {
   "cell_type": "code",
   "execution_count": 131,
   "metadata": {},
   "outputs": [],
   "source": [
    "def fommatted_text(text):\n",
    "    mo = re.search(r'\\b(evacuat|leav|escap)(e|ing)\\b', text.lower())\n",
    "    start, end = mo.span()\n",
    "    text = re.sub('\\n', '<br>', f'{text[:start]}<b>{text[start:end]}</b>{text[end:]}')\n",
    "    return HTML(text)\n",
    "\n",
    "def series2df(series):\n",
    "    return pd.DataFrame({idx: [val] for idx, val in zip(series.index, series.values)}, index=[series.name])\n",
    "\n",
    "def indices_of_top_false_positives(ytrue, ypred, yprob, labels, label='positve'):\n",
    "    lidx = labels.index(label)\n",
    "    indices = np.arange(len(ytrue))[(ypred == label) & (ytrue != label)]\n",
    "    return sorted(indices, key=lambda i: yprob[i, lidx], reverse=True)"
   ]
  },
  {
   "cell_type": "code",
   "execution_count": 132,
   "metadata": {},
   "outputs": [
    {
     "name": "stdout",
     "output_type": "stream",
     "text": [
      "\n",
      "\n",
      "238 false negative tweets\n"
     ]
    },
    {
     "data": {
      "text/html": [
       "<div>\n",
       "<style scoped>\n",
       "    .dataframe tbody tr th:only-of-type {\n",
       "        vertical-align: middle;\n",
       "    }\n",
       "\n",
       "    .dataframe tbody tr th {\n",
       "        vertical-align: top;\n",
       "    }\n",
       "\n",
       "    .dataframe thead th {\n",
       "        text-align: right;\n",
       "    }\n",
       "</style>\n",
       "<table border=\"1\" class=\"dataframe\">\n",
       "  <thead>\n",
       "    <tr style=\"text-align: right;\">\n",
       "      <th></th>\n",
       "      <th>tweet_time</th>\n",
       "      <th>user_screen_name</th>\n",
       "      <th>user_location</th>\n",
       "      <th>tweet_place_name</th>\n",
       "      <th>label</th>\n",
       "      <th>probability</th>\n",
       "    </tr>\n",
       "  </thead>\n",
       "  <tbody>\n",
       "    <tr>\n",
       "      <td>4979</td>\n",
       "      <td>2017-09-09 14:18:58</td>\n",
       "      <td>dezidoesit</td>\n",
       "      <td>Miami</td>\n",
       "      <td>NaN</td>\n",
       "      <td>neutral</td>\n",
       "      <td>0.508534</td>\n",
       "    </tr>\n",
       "  </tbody>\n",
       "</table>\n",
       "</div>"
      ],
      "text/plain": [
       "               tweet_time user_screen_name user_location  tweet_place_name  \\\n",
       "4979  2017-09-09 14:18:58       dezidoesit         Miami               NaN   \n",
       "\n",
       "        label  probability  \n",
       "4979  neutral     0.508534  "
      ]
     },
     "metadata": {},
     "output_type": "display_data"
    },
    {
     "data": {
      "text/html": [
       "Everyone I'm with wants to <b>evacuate</b> Orlando. But my mom, brother and sister are here, dad is still south. I'm so torn."
      ],
      "text/plain": [
       "<IPython.core.display.HTML object>"
      ]
     },
     "metadata": {},
     "output_type": "display_data"
    },
    {
     "data": {
      "text/html": [
       "<div>\n",
       "<style scoped>\n",
       "    .dataframe tbody tr th:only-of-type {\n",
       "        vertical-align: middle;\n",
       "    }\n",
       "\n",
       "    .dataframe tbody tr th {\n",
       "        vertical-align: top;\n",
       "    }\n",
       "\n",
       "    .dataframe thead th {\n",
       "        text-align: right;\n",
       "    }\n",
       "</style>\n",
       "<table border=\"1\" class=\"dataframe\">\n",
       "  <thead>\n",
       "    <tr style=\"text-align: right;\">\n",
       "      <th></th>\n",
       "      <th>tweet_time</th>\n",
       "      <th>user_screen_name</th>\n",
       "      <th>user_location</th>\n",
       "      <th>tweet_place_name</th>\n",
       "      <th>label</th>\n",
       "      <th>probability</th>\n",
       "    </tr>\n",
       "  </thead>\n",
       "  <tbody>\n",
       "    <tr>\n",
       "      <td>1292</td>\n",
       "      <td>2017-09-08 14:41:01</td>\n",
       "      <td>chchChillMyNill</td>\n",
       "      <td>Miami, FL</td>\n",
       "      <td>NaN</td>\n",
       "      <td>neutral</td>\n",
       "      <td>0.507151</td>\n",
       "    </tr>\n",
       "  </tbody>\n",
       "</table>\n",
       "</div>"
      ],
      "text/plain": [
       "               tweet_time user_screen_name user_location  tweet_place_name  \\\n",
       "1292  2017-09-08 14:41:01  chchChillMyNill     Miami, FL               NaN   \n",
       "\n",
       "        label  probability  \n",
       "1292  neutral     0.507151  "
      ]
     },
     "metadata": {},
     "output_type": "display_data"
    },
    {
     "data": {
      "text/html": [
       "305 till I die translates to don't <b>evacuate</b> huh"
      ],
      "text/plain": [
       "<IPython.core.display.HTML object>"
      ]
     },
     "metadata": {},
     "output_type": "display_data"
    },
    {
     "data": {
      "text/html": [
       "<div>\n",
       "<style scoped>\n",
       "    .dataframe tbody tr th:only-of-type {\n",
       "        vertical-align: middle;\n",
       "    }\n",
       "\n",
       "    .dataframe tbody tr th {\n",
       "        vertical-align: top;\n",
       "    }\n",
       "\n",
       "    .dataframe thead th {\n",
       "        text-align: right;\n",
       "    }\n",
       "</style>\n",
       "<table border=\"1\" class=\"dataframe\">\n",
       "  <thead>\n",
       "    <tr style=\"text-align: right;\">\n",
       "      <th></th>\n",
       "      <th>tweet_time</th>\n",
       "      <th>user_screen_name</th>\n",
       "      <th>user_location</th>\n",
       "      <th>tweet_place_name</th>\n",
       "      <th>label</th>\n",
       "      <th>probability</th>\n",
       "    </tr>\n",
       "  </thead>\n",
       "  <tbody>\n",
       "    <tr>\n",
       "      <td>2483</td>\n",
       "      <td>2017-09-07 17:50:01</td>\n",
       "      <td>thedayofsteve</td>\n",
       "      <td>Orlando, FL</td>\n",
       "      <td>NaN</td>\n",
       "      <td>neutral</td>\n",
       "      <td>0.505041</td>\n",
       "    </tr>\n",
       "  </tbody>\n",
       "</table>\n",
       "</div>"
      ],
      "text/plain": [
       "               tweet_time user_screen_name user_location  tweet_place_name  \\\n",
       "2483  2017-09-07 17:50:01    thedayofsteve   Orlando, FL               NaN   \n",
       "\n",
       "        label  probability  \n",
       "2483  neutral     0.505041  "
      ]
     },
     "metadata": {},
     "output_type": "display_data"
    },
    {
     "data": {
      "text/html": [
       "@mrcoaster1 @MainCitizens @Teafortwotube Well, I'm in Hollywood, already ridden 3/4s of the rides and we're <b>leaving</b> right after lunch... @grownupdisney was here for 45 min..."
      ],
      "text/plain": [
       "<IPython.core.display.HTML object>"
      ]
     },
     "metadata": {},
     "output_type": "display_data"
    },
    {
     "data": {
      "text/html": [
       "<div>\n",
       "<style scoped>\n",
       "    .dataframe tbody tr th:only-of-type {\n",
       "        vertical-align: middle;\n",
       "    }\n",
       "\n",
       "    .dataframe tbody tr th {\n",
       "        vertical-align: top;\n",
       "    }\n",
       "\n",
       "    .dataframe thead th {\n",
       "        text-align: right;\n",
       "    }\n",
       "</style>\n",
       "<table border=\"1\" class=\"dataframe\">\n",
       "  <thead>\n",
       "    <tr style=\"text-align: right;\">\n",
       "      <th></th>\n",
       "      <th>tweet_time</th>\n",
       "      <th>user_screen_name</th>\n",
       "      <th>user_location</th>\n",
       "      <th>tweet_place_name</th>\n",
       "      <th>label</th>\n",
       "      <th>probability</th>\n",
       "    </tr>\n",
       "  </thead>\n",
       "  <tbody>\n",
       "    <tr>\n",
       "      <td>2300</td>\n",
       "      <td>2017-09-09 04:43:15</td>\n",
       "      <td>dreamingstar213</td>\n",
       "      <td>Florida</td>\n",
       "      <td>NaN</td>\n",
       "      <td>neutral</td>\n",
       "      <td>0.504982</td>\n",
       "    </tr>\n",
       "  </tbody>\n",
       "</table>\n",
       "</div>"
      ],
      "text/plain": [
       "               tweet_time user_screen_name user_location  tweet_place_name  \\\n",
       "2300  2017-09-09 04:43:15  dreamingstar213       Florida               NaN   \n",
       "\n",
       "        label  probability  \n",
       "2300  neutral     0.504982  "
      ]
     },
     "metadata": {},
     "output_type": "display_data"
    },
    {
     "data": {
      "text/html": [
       "@backinstereo MY MOM IS LIKE 'IT'S FINE WE SURVIVED A CAT 2 EYE IN AN APARTMENT IN THE 80S\" (that was hours ago though. we're still debating <b>leaving</b>)"
      ],
      "text/plain": [
       "<IPython.core.display.HTML object>"
      ]
     },
     "metadata": {},
     "output_type": "display_data"
    },
    {
     "data": {
      "text/html": [
       "<div>\n",
       "<style scoped>\n",
       "    .dataframe tbody tr th:only-of-type {\n",
       "        vertical-align: middle;\n",
       "    }\n",
       "\n",
       "    .dataframe tbody tr th {\n",
       "        vertical-align: top;\n",
       "    }\n",
       "\n",
       "    .dataframe thead th {\n",
       "        text-align: right;\n",
       "    }\n",
       "</style>\n",
       "<table border=\"1\" class=\"dataframe\">\n",
       "  <thead>\n",
       "    <tr style=\"text-align: right;\">\n",
       "      <th></th>\n",
       "      <th>tweet_time</th>\n",
       "      <th>user_screen_name</th>\n",
       "      <th>user_location</th>\n",
       "      <th>tweet_place_name</th>\n",
       "      <th>label</th>\n",
       "      <th>probability</th>\n",
       "    </tr>\n",
       "  </thead>\n",
       "  <tbody>\n",
       "    <tr>\n",
       "      <td>843</td>\n",
       "      <td>2017-09-09 18:59:38</td>\n",
       "      <td>Cheech51111</td>\n",
       "      <td>FT. LAUDERDALE, FL</td>\n",
       "      <td>NaN</td>\n",
       "      <td>neutral</td>\n",
       "      <td>0.500281</td>\n",
       "    </tr>\n",
       "  </tbody>\n",
       "</table>\n",
       "</div>"
      ],
      "text/plain": [
       "              tweet_time user_screen_name       user_location  \\\n",
       "843  2017-09-09 18:59:38      Cheech51111  FT. LAUDERDALE, FL   \n",
       "\n",
       "     tweet_place_name    label  probability  \n",
       "843               NaN  neutral     0.500281  "
      ]
     },
     "metadata": {},
     "output_type": "display_data"
    },
    {
     "data": {
      "text/html": [
       "@NaplesPolice are you guys responding here?I have close friend on Capri drive who aren't <b>leaving</b> she has 4 kids 2 special needs help wont go"
      ],
      "text/plain": [
       "<IPython.core.display.HTML object>"
      ]
     },
     "metadata": {},
     "output_type": "display_data"
    },
    {
     "data": {
      "text/html": [
       "<div>\n",
       "<style scoped>\n",
       "    .dataframe tbody tr th:only-of-type {\n",
       "        vertical-align: middle;\n",
       "    }\n",
       "\n",
       "    .dataframe tbody tr th {\n",
       "        vertical-align: top;\n",
       "    }\n",
       "\n",
       "    .dataframe thead th {\n",
       "        text-align: right;\n",
       "    }\n",
       "</style>\n",
       "<table border=\"1\" class=\"dataframe\">\n",
       "  <thead>\n",
       "    <tr style=\"text-align: right;\">\n",
       "      <th></th>\n",
       "      <th>tweet_time</th>\n",
       "      <th>user_screen_name</th>\n",
       "      <th>user_location</th>\n",
       "      <th>tweet_place_name</th>\n",
       "      <th>label</th>\n",
       "      <th>probability</th>\n",
       "    </tr>\n",
       "  </thead>\n",
       "  <tbody>\n",
       "    <tr>\n",
       "      <td>4914</td>\n",
       "      <td>2017-09-08 15:10:23</td>\n",
       "      <td>_stephlovexo</td>\n",
       "      <td>Miami, FL</td>\n",
       "      <td>NaN</td>\n",
       "      <td>positive</td>\n",
       "      <td>0.500043</td>\n",
       "    </tr>\n",
       "  </tbody>\n",
       "</table>\n",
       "</div>"
      ],
      "text/plain": [
       "               tweet_time user_screen_name user_location  tweet_place_name  \\\n",
       "4914  2017-09-08 15:10:23     _stephlovexo     Miami, FL               NaN   \n",
       "\n",
       "         label  probability  \n",
       "4914  positive     0.500043  "
      ]
     },
     "metadata": {},
     "output_type": "display_data"
    },
    {
     "data": {
      "text/html": [
       "Babe told me I'm not <b>leaving</b> you behind you're coming with us. 😩 Literally gave me 15 minutes to pack only."
      ],
      "text/plain": [
       "<IPython.core.display.HTML object>"
      ]
     },
     "metadata": {},
     "output_type": "display_data"
    },
    {
     "data": {
      "text/html": [
       "<div>\n",
       "<style scoped>\n",
       "    .dataframe tbody tr th:only-of-type {\n",
       "        vertical-align: middle;\n",
       "    }\n",
       "\n",
       "    .dataframe tbody tr th {\n",
       "        vertical-align: top;\n",
       "    }\n",
       "\n",
       "    .dataframe thead th {\n",
       "        text-align: right;\n",
       "    }\n",
       "</style>\n",
       "<table border=\"1\" class=\"dataframe\">\n",
       "  <thead>\n",
       "    <tr style=\"text-align: right;\">\n",
       "      <th></th>\n",
       "      <th>tweet_time</th>\n",
       "      <th>user_screen_name</th>\n",
       "      <th>user_location</th>\n",
       "      <th>tweet_place_name</th>\n",
       "      <th>label</th>\n",
       "      <th>probability</th>\n",
       "    </tr>\n",
       "  </thead>\n",
       "  <tbody>\n",
       "    <tr>\n",
       "      <td>522</td>\n",
       "      <td>2017-09-08 21:26:06</td>\n",
       "      <td>40QuinnVulcano</td>\n",
       "      <td>FL</td>\n",
       "      <td>NaN</td>\n",
       "      <td>neutral</td>\n",
       "      <td>0.497812</td>\n",
       "    </tr>\n",
       "  </tbody>\n",
       "</table>\n",
       "</div>"
      ],
      "text/plain": [
       "              tweet_time user_screen_name user_location  tweet_place_name  \\\n",
       "522  2017-09-08 21:26:06   40QuinnVulcano            FL               NaN   \n",
       "\n",
       "       label  probability  \n",
       "522  neutral     0.497812  "
      ]
     },
     "metadata": {},
     "output_type": "display_data"
    },
    {
     "data": {
      "text/html": [
       "@LaurieBoomBoom Although, I am not <b>leaving</b> any IJ stuff here. Like the shirt and figures and some pics that I love that was on the wall."
      ],
      "text/plain": [
       "<IPython.core.display.HTML object>"
      ]
     },
     "metadata": {},
     "output_type": "display_data"
    },
    {
     "data": {
      "text/html": [
       "<div>\n",
       "<style scoped>\n",
       "    .dataframe tbody tr th:only-of-type {\n",
       "        vertical-align: middle;\n",
       "    }\n",
       "\n",
       "    .dataframe tbody tr th {\n",
       "        vertical-align: top;\n",
       "    }\n",
       "\n",
       "    .dataframe thead th {\n",
       "        text-align: right;\n",
       "    }\n",
       "</style>\n",
       "<table border=\"1\" class=\"dataframe\">\n",
       "  <thead>\n",
       "    <tr style=\"text-align: right;\">\n",
       "      <th></th>\n",
       "      <th>tweet_time</th>\n",
       "      <th>user_screen_name</th>\n",
       "      <th>user_location</th>\n",
       "      <th>tweet_place_name</th>\n",
       "      <th>label</th>\n",
       "      <th>probability</th>\n",
       "    </tr>\n",
       "  </thead>\n",
       "  <tbody>\n",
       "    <tr>\n",
       "      <td>4786</td>\n",
       "      <td>2017-09-05 16:56:47</td>\n",
       "      <td>_lordnicholas</td>\n",
       "      <td>Miami, FL</td>\n",
       "      <td>NaN</td>\n",
       "      <td>neutral</td>\n",
       "      <td>0.492135</td>\n",
       "    </tr>\n",
       "  </tbody>\n",
       "</table>\n",
       "</div>"
      ],
      "text/plain": [
       "               tweet_time user_screen_name user_location  tweet_place_name  \\\n",
       "4786  2017-09-05 16:56:47    _lordnicholas     Miami, FL               NaN   \n",
       "\n",
       "        label  probability  \n",
       "4786  neutral     0.492135  "
      ]
     },
     "metadata": {},
     "output_type": "display_data"
    },
    {
     "data": {
      "text/html": [
       "My mom is <b>leaving</b> to Tennessee for the storm and just told me I'm not no mr. captain save a hoe so I have no business being there. 🙄"
      ],
      "text/plain": [
       "<IPython.core.display.HTML object>"
      ]
     },
     "metadata": {},
     "output_type": "display_data"
    },
    {
     "data": {
      "text/html": [
       "<div>\n",
       "<style scoped>\n",
       "    .dataframe tbody tr th:only-of-type {\n",
       "        vertical-align: middle;\n",
       "    }\n",
       "\n",
       "    .dataframe tbody tr th {\n",
       "        vertical-align: top;\n",
       "    }\n",
       "\n",
       "    .dataframe thead th {\n",
       "        text-align: right;\n",
       "    }\n",
       "</style>\n",
       "<table border=\"1\" class=\"dataframe\">\n",
       "  <thead>\n",
       "    <tr style=\"text-align: right;\">\n",
       "      <th></th>\n",
       "      <th>tweet_time</th>\n",
       "      <th>user_screen_name</th>\n",
       "      <th>user_location</th>\n",
       "      <th>tweet_place_name</th>\n",
       "      <th>label</th>\n",
       "      <th>probability</th>\n",
       "    </tr>\n",
       "  </thead>\n",
       "  <tbody>\n",
       "    <tr>\n",
       "      <td>4840</td>\n",
       "      <td>2017-09-09 14:13:12</td>\n",
       "      <td>holstersniffer</td>\n",
       "      <td>Florida, USA</td>\n",
       "      <td>NaN</td>\n",
       "      <td>neutral</td>\n",
       "      <td>0.483906</td>\n",
       "    </tr>\n",
       "  </tbody>\n",
       "</table>\n",
       "</div>"
      ],
      "text/plain": [
       "               tweet_time user_screen_name user_location  tweet_place_name  \\\n",
       "4840  2017-09-09 14:13:12   holstersniffer  Florida, USA               NaN   \n",
       "\n",
       "        label  probability  \n",
       "4840  neutral     0.483906  "
      ]
     },
     "metadata": {},
     "output_type": "display_data"
    },
    {
     "data": {
      "text/html": [
       "Prayers for all those who can't <b>leave</b> for this storm to stay safe. 💙💙"
      ],
      "text/plain": [
       "<IPython.core.display.HTML object>"
      ]
     },
     "metadata": {},
     "output_type": "display_data"
    },
    {
     "data": {
      "text/html": [
       "<div>\n",
       "<style scoped>\n",
       "    .dataframe tbody tr th:only-of-type {\n",
       "        vertical-align: middle;\n",
       "    }\n",
       "\n",
       "    .dataframe tbody tr th {\n",
       "        vertical-align: top;\n",
       "    }\n",
       "\n",
       "    .dataframe thead th {\n",
       "        text-align: right;\n",
       "    }\n",
       "</style>\n",
       "<table border=\"1\" class=\"dataframe\">\n",
       "  <thead>\n",
       "    <tr style=\"text-align: right;\">\n",
       "      <th></th>\n",
       "      <th>tweet_time</th>\n",
       "      <th>user_screen_name</th>\n",
       "      <th>user_location</th>\n",
       "      <th>tweet_place_name</th>\n",
       "      <th>label</th>\n",
       "      <th>probability</th>\n",
       "    </tr>\n",
       "  </thead>\n",
       "  <tbody>\n",
       "    <tr>\n",
       "      <td>4466</td>\n",
       "      <td>2017-09-08 03:18:31</td>\n",
       "      <td>JennyBoohx3</td>\n",
       "      <td>NaN</td>\n",
       "      <td>NaN</td>\n",
       "      <td>positive</td>\n",
       "      <td>0.478962</td>\n",
       "    </tr>\n",
       "  </tbody>\n",
       "</table>\n",
       "</div>"
      ],
      "text/plain": [
       "               tweet_time user_screen_name  user_location  tweet_place_name  \\\n",
       "4466  2017-09-08 03:18:31      JennyBoohx3            NaN               NaN   \n",
       "\n",
       "         label  probability  \n",
       "4466  positive     0.478962  "
      ]
     },
     "metadata": {},
     "output_type": "display_data"
    },
    {
     "data": {
      "text/html": [
       "Baby girl and I are ready to <b>evacuate</b>..... we're like 10 minutes away lol but at least I'm not in a flood zone anymore"
      ],
      "text/plain": [
       "<IPython.core.display.HTML object>"
      ]
     },
     "metadata": {},
     "output_type": "display_data"
    },
    {
     "data": {
      "text/html": [
       "<div>\n",
       "<style scoped>\n",
       "    .dataframe tbody tr th:only-of-type {\n",
       "        vertical-align: middle;\n",
       "    }\n",
       "\n",
       "    .dataframe tbody tr th {\n",
       "        vertical-align: top;\n",
       "    }\n",
       "\n",
       "    .dataframe thead th {\n",
       "        text-align: right;\n",
       "    }\n",
       "</style>\n",
       "<table border=\"1\" class=\"dataframe\">\n",
       "  <thead>\n",
       "    <tr style=\"text-align: right;\">\n",
       "      <th></th>\n",
       "      <th>tweet_time</th>\n",
       "      <th>user_screen_name</th>\n",
       "      <th>user_location</th>\n",
       "      <th>tweet_place_name</th>\n",
       "      <th>label</th>\n",
       "      <th>probability</th>\n",
       "    </tr>\n",
       "  </thead>\n",
       "  <tbody>\n",
       "    <tr>\n",
       "      <td>3723</td>\n",
       "      <td>2017-09-05 21:34:45</td>\n",
       "      <td>bre_rico</td>\n",
       "      <td>NaN</td>\n",
       "      <td>NaN</td>\n",
       "      <td>positive</td>\n",
       "      <td>0.465001</td>\n",
       "    </tr>\n",
       "  </tbody>\n",
       "</table>\n",
       "</div>"
      ],
      "text/plain": [
       "               tweet_time user_screen_name  user_location  tweet_place_name  \\\n",
       "3723  2017-09-05 21:34:45         bre_rico            NaN               NaN   \n",
       "\n",
       "         label  probability  \n",
       "3723  positive     0.465001  "
      ]
     },
     "metadata": {},
     "output_type": "display_data"
    },
    {
     "data": {
      "text/html": [
       "Everyone is <b>leaving</b> Miami for the hurricane so I guess I'm coming home Cali 🤷🏼‍♀️"
      ],
      "text/plain": [
       "<IPython.core.display.HTML object>"
      ]
     },
     "metadata": {},
     "output_type": "display_data"
    },
    {
     "data": {
      "text/html": [
       "<div>\n",
       "<style scoped>\n",
       "    .dataframe tbody tr th:only-of-type {\n",
       "        vertical-align: middle;\n",
       "    }\n",
       "\n",
       "    .dataframe tbody tr th {\n",
       "        vertical-align: top;\n",
       "    }\n",
       "\n",
       "    .dataframe thead th {\n",
       "        text-align: right;\n",
       "    }\n",
       "</style>\n",
       "<table border=\"1\" class=\"dataframe\">\n",
       "  <thead>\n",
       "    <tr style=\"text-align: right;\">\n",
       "      <th></th>\n",
       "      <th>tweet_time</th>\n",
       "      <th>user_screen_name</th>\n",
       "      <th>user_location</th>\n",
       "      <th>tweet_place_name</th>\n",
       "      <th>label</th>\n",
       "      <th>probability</th>\n",
       "    </tr>\n",
       "  </thead>\n",
       "  <tbody>\n",
       "    <tr>\n",
       "      <td>1988</td>\n",
       "      <td>2017-09-06 21:23:30</td>\n",
       "      <td>ProfessorOats</td>\n",
       "      <td>Boca Raton, FL</td>\n",
       "      <td>NaN</td>\n",
       "      <td>positive</td>\n",
       "      <td>0.460949</td>\n",
       "    </tr>\n",
       "  </tbody>\n",
       "</table>\n",
       "</div>"
      ],
      "text/plain": [
       "               tweet_time user_screen_name   user_location  tweet_place_name  \\\n",
       "1988  2017-09-06 21:23:30    ProfessorOats  Boca Raton, FL               NaN   \n",
       "\n",
       "         label  probability  \n",
       "1988  positive     0.460949  "
      ]
     },
     "metadata": {},
     "output_type": "display_data"
    },
    {
     "data": {
      "text/html": [
       "Surprise surprise, no flights available earlier. I AM <b>leaving</b> on Friday morning, paranoid family quelled, should hit up Versus but not enter"
      ],
      "text/plain": [
       "<IPython.core.display.HTML object>"
      ]
     },
     "metadata": {},
     "output_type": "display_data"
    },
    {
     "data": {
      "text/html": [
       "<div>\n",
       "<style scoped>\n",
       "    .dataframe tbody tr th:only-of-type {\n",
       "        vertical-align: middle;\n",
       "    }\n",
       "\n",
       "    .dataframe tbody tr th {\n",
       "        vertical-align: top;\n",
       "    }\n",
       "\n",
       "    .dataframe thead th {\n",
       "        text-align: right;\n",
       "    }\n",
       "</style>\n",
       "<table border=\"1\" class=\"dataframe\">\n",
       "  <thead>\n",
       "    <tr style=\"text-align: right;\">\n",
       "      <th></th>\n",
       "      <th>tweet_time</th>\n",
       "      <th>user_screen_name</th>\n",
       "      <th>user_location</th>\n",
       "      <th>tweet_place_name</th>\n",
       "      <th>label</th>\n",
       "      <th>probability</th>\n",
       "    </tr>\n",
       "  </thead>\n",
       "  <tbody>\n",
       "    <tr>\n",
       "      <td>1089</td>\n",
       "      <td>2017-09-08 12:41:37</td>\n",
       "      <td>Kossuel</td>\n",
       "      <td>Florida</td>\n",
       "      <td>NaN</td>\n",
       "      <td>neutral</td>\n",
       "      <td>0.454789</td>\n",
       "    </tr>\n",
       "  </tbody>\n",
       "</table>\n",
       "</div>"
      ],
      "text/plain": [
       "               tweet_time user_screen_name user_location  tweet_place_name  \\\n",
       "1089  2017-09-08 12:41:37          Kossuel       Florida               NaN   \n",
       "\n",
       "        label  probability  \n",
       "1089  neutral     0.454789  "
      ]
     },
     "metadata": {},
     "output_type": "display_data"
    },
    {
     "data": {
      "text/html": [
       "@WeebTraysh We can't <b>escape</b> it's direct path unless we go out of state dude"
      ],
      "text/plain": [
       "<IPython.core.display.HTML object>"
      ]
     },
     "metadata": {},
     "output_type": "display_data"
    },
    {
     "data": {
      "text/html": [
       "<div>\n",
       "<style scoped>\n",
       "    .dataframe tbody tr th:only-of-type {\n",
       "        vertical-align: middle;\n",
       "    }\n",
       "\n",
       "    .dataframe tbody tr th {\n",
       "        vertical-align: top;\n",
       "    }\n",
       "\n",
       "    .dataframe thead th {\n",
       "        text-align: right;\n",
       "    }\n",
       "</style>\n",
       "<table border=\"1\" class=\"dataframe\">\n",
       "  <thead>\n",
       "    <tr style=\"text-align: right;\">\n",
       "      <th></th>\n",
       "      <th>tweet_time</th>\n",
       "      <th>user_screen_name</th>\n",
       "      <th>user_location</th>\n",
       "      <th>tweet_place_name</th>\n",
       "      <th>label</th>\n",
       "      <th>probability</th>\n",
       "    </tr>\n",
       "  </thead>\n",
       "  <tbody>\n",
       "    <tr>\n",
       "      <td>814</td>\n",
       "      <td>2017-09-07 21:32:13</td>\n",
       "      <td>CastroFranes</td>\n",
       "      <td>Florida, USA</td>\n",
       "      <td>NaN</td>\n",
       "      <td>neutral</td>\n",
       "      <td>0.448569</td>\n",
       "    </tr>\n",
       "  </tbody>\n",
       "</table>\n",
       "</div>"
      ],
      "text/plain": [
       "              tweet_time user_screen_name user_location  tweet_place_name  \\\n",
       "814  2017-09-07 21:32:13     CastroFranes  Florida, USA               NaN   \n",
       "\n",
       "       label  probability  \n",
       "814  neutral     0.448569  "
      ]
     },
     "metadata": {},
     "output_type": "display_data"
    },
    {
     "data": {
      "text/html": [
       "I live in A not <b>leaving</b> until tomorrow. Cabin fever breaks up families"
      ],
      "text/plain": [
       "<IPython.core.display.HTML object>"
      ]
     },
     "metadata": {},
     "output_type": "display_data"
    },
    {
     "data": {
      "text/html": [
       "<div>\n",
       "<style scoped>\n",
       "    .dataframe tbody tr th:only-of-type {\n",
       "        vertical-align: middle;\n",
       "    }\n",
       "\n",
       "    .dataframe tbody tr th {\n",
       "        vertical-align: top;\n",
       "    }\n",
       "\n",
       "    .dataframe thead th {\n",
       "        text-align: right;\n",
       "    }\n",
       "</style>\n",
       "<table border=\"1\" class=\"dataframe\">\n",
       "  <thead>\n",
       "    <tr style=\"text-align: right;\">\n",
       "      <th></th>\n",
       "      <th>tweet_time</th>\n",
       "      <th>user_screen_name</th>\n",
       "      <th>user_location</th>\n",
       "      <th>tweet_place_name</th>\n",
       "      <th>label</th>\n",
       "      <th>probability</th>\n",
       "    </tr>\n",
       "  </thead>\n",
       "  <tbody>\n",
       "    <tr>\n",
       "      <td>1877</td>\n",
       "      <td>2017-09-08 02:07:27</td>\n",
       "      <td>MCATDT15</td>\n",
       "      <td>Bluffton, SC</td>\n",
       "      <td>Florida, USA</td>\n",
       "      <td>positive</td>\n",
       "      <td>0.444617</td>\n",
       "    </tr>\n",
       "  </tbody>\n",
       "</table>\n",
       "</div>"
      ],
      "text/plain": [
       "               tweet_time user_screen_name user_location tweet_place_name  \\\n",
       "1877  2017-09-08 02:07:27         MCATDT15  Bluffton, SC     Florida, USA   \n",
       "\n",
       "         label  probability  \n",
       "1877  positive     0.444617  "
      ]
     },
     "metadata": {},
     "output_type": "display_data"
    },
    {
     "data": {
      "text/html": [
       "@BSBnSPNFan @GilMcKinney I'm staying somewhere that's really safe here (i'm <b>leaving</b> my house). Promise. Love you guys. #SPNIrma ❤️"
      ],
      "text/plain": [
       "<IPython.core.display.HTML object>"
      ]
     },
     "metadata": {},
     "output_type": "display_data"
    },
    {
     "data": {
      "text/html": [
       "<div>\n",
       "<style scoped>\n",
       "    .dataframe tbody tr th:only-of-type {\n",
       "        vertical-align: middle;\n",
       "    }\n",
       "\n",
       "    .dataframe tbody tr th {\n",
       "        vertical-align: top;\n",
       "    }\n",
       "\n",
       "    .dataframe thead th {\n",
       "        text-align: right;\n",
       "    }\n",
       "</style>\n",
       "<table border=\"1\" class=\"dataframe\">\n",
       "  <thead>\n",
       "    <tr style=\"text-align: right;\">\n",
       "      <th></th>\n",
       "      <th>tweet_time</th>\n",
       "      <th>user_screen_name</th>\n",
       "      <th>user_location</th>\n",
       "      <th>tweet_place_name</th>\n",
       "      <th>label</th>\n",
       "      <th>probability</th>\n",
       "    </tr>\n",
       "  </thead>\n",
       "  <tbody>\n",
       "    <tr>\n",
       "      <td>2660</td>\n",
       "      <td>2017-09-06 10:22:13</td>\n",
       "      <td>MarcTheFader</td>\n",
       "      <td>Florida, USA</td>\n",
       "      <td>NaN</td>\n",
       "      <td>neutral</td>\n",
       "      <td>0.399046</td>\n",
       "    </tr>\n",
       "  </tbody>\n",
       "</table>\n",
       "</div>"
      ],
      "text/plain": [
       "               tweet_time user_screen_name user_location  tweet_place_name  \\\n",
       "2660  2017-09-06 10:22:13     MarcTheFader  Florida, USA               NaN   \n",
       "\n",
       "        label  probability  \n",
       "2660  neutral     0.399046  "
      ]
     },
     "metadata": {},
     "output_type": "display_data"
    },
    {
     "data": {
      "text/html": [
       "@NaDeXeFL Its excepted to hit sat and <b>leave</b> sun and im in jax😢🙏🏾"
      ],
      "text/plain": [
       "<IPython.core.display.HTML object>"
      ]
     },
     "metadata": {},
     "output_type": "display_data"
    },
    {
     "data": {
      "text/html": [
       "<div>\n",
       "<style scoped>\n",
       "    .dataframe tbody tr th:only-of-type {\n",
       "        vertical-align: middle;\n",
       "    }\n",
       "\n",
       "    .dataframe tbody tr th {\n",
       "        vertical-align: top;\n",
       "    }\n",
       "\n",
       "    .dataframe thead th {\n",
       "        text-align: right;\n",
       "    }\n",
       "</style>\n",
       "<table border=\"1\" class=\"dataframe\">\n",
       "  <thead>\n",
       "    <tr style=\"text-align: right;\">\n",
       "      <th></th>\n",
       "      <th>tweet_time</th>\n",
       "      <th>user_screen_name</th>\n",
       "      <th>user_location</th>\n",
       "      <th>tweet_place_name</th>\n",
       "      <th>label</th>\n",
       "      <th>probability</th>\n",
       "    </tr>\n",
       "  </thead>\n",
       "  <tbody>\n",
       "    <tr>\n",
       "      <td>4894</td>\n",
       "      <td>2017-09-07 06:22:22</td>\n",
       "      <td>medproretired</td>\n",
       "      <td>Florida, USA</td>\n",
       "      <td>NaN</td>\n",
       "      <td>neutral</td>\n",
       "      <td>0.390474</td>\n",
       "    </tr>\n",
       "  </tbody>\n",
       "</table>\n",
       "</div>"
      ],
      "text/plain": [
       "               tweet_time user_screen_name user_location  tweet_place_name  \\\n",
       "4894  2017-09-07 06:22:22    medproretired  Florida, USA               NaN   \n",
       "\n",
       "        label  probability  \n",
       "4894  neutral     0.390474  "
      ]
     },
     "metadata": {},
     "output_type": "display_data"
    },
    {
     "data": {
      "text/html": [
       "@CarriWeatherwax 1. I live in Key Biscayne which is under mandatory evacuation. I have heard that it will be impossible for all of Miami to <b>evacuate</b>"
      ],
      "text/plain": [
       "<IPython.core.display.HTML object>"
      ]
     },
     "metadata": {},
     "output_type": "display_data"
    },
    {
     "data": {
      "text/html": [
       "<div>\n",
       "<style scoped>\n",
       "    .dataframe tbody tr th:only-of-type {\n",
       "        vertical-align: middle;\n",
       "    }\n",
       "\n",
       "    .dataframe tbody tr th {\n",
       "        vertical-align: top;\n",
       "    }\n",
       "\n",
       "    .dataframe thead th {\n",
       "        text-align: right;\n",
       "    }\n",
       "</style>\n",
       "<table border=\"1\" class=\"dataframe\">\n",
       "  <thead>\n",
       "    <tr style=\"text-align: right;\">\n",
       "      <th></th>\n",
       "      <th>tweet_time</th>\n",
       "      <th>user_screen_name</th>\n",
       "      <th>user_location</th>\n",
       "      <th>tweet_place_name</th>\n",
       "      <th>label</th>\n",
       "      <th>probability</th>\n",
       "    </tr>\n",
       "  </thead>\n",
       "  <tbody>\n",
       "    <tr>\n",
       "      <td>1142</td>\n",
       "      <td>2017-09-05 18:28:47</td>\n",
       "      <td>OhSoLiveLISA</td>\n",
       "      <td>Tampa, FL</td>\n",
       "      <td>NaN</td>\n",
       "      <td>neutral</td>\n",
       "      <td>0.372432</td>\n",
       "    </tr>\n",
       "  </tbody>\n",
       "</table>\n",
       "</div>"
      ],
      "text/plain": [
       "               tweet_time user_screen_name user_location  tweet_place_name  \\\n",
       "1142  2017-09-05 18:28:47     OhSoLiveLISA     Tampa, FL               NaN   \n",
       "\n",
       "        label  probability  \n",
       "1142  neutral     0.372432  "
      ]
     },
     "metadata": {},
     "output_type": "display_data"
    },
    {
     "data": {
      "text/html": [
       "Like we legit can't <b>escape</b> this death. Hurricane Irma, Hurricane Jose and shit Korea War... 🤦🏾‍♀️"
      ],
      "text/plain": [
       "<IPython.core.display.HTML object>"
      ]
     },
     "metadata": {},
     "output_type": "display_data"
    },
    {
     "data": {
      "text/html": [
       "<div>\n",
       "<style scoped>\n",
       "    .dataframe tbody tr th:only-of-type {\n",
       "        vertical-align: middle;\n",
       "    }\n",
       "\n",
       "    .dataframe tbody tr th {\n",
       "        vertical-align: top;\n",
       "    }\n",
       "\n",
       "    .dataframe thead th {\n",
       "        text-align: right;\n",
       "    }\n",
       "</style>\n",
       "<table border=\"1\" class=\"dataframe\">\n",
       "  <thead>\n",
       "    <tr style=\"text-align: right;\">\n",
       "      <th></th>\n",
       "      <th>tweet_time</th>\n",
       "      <th>user_screen_name</th>\n",
       "      <th>user_location</th>\n",
       "      <th>tweet_place_name</th>\n",
       "      <th>label</th>\n",
       "      <th>probability</th>\n",
       "    </tr>\n",
       "  </thead>\n",
       "  <tbody>\n",
       "    <tr>\n",
       "      <td>1876</td>\n",
       "      <td>2017-09-06 23:45:33</td>\n",
       "      <td>M3lanyRosario</td>\n",
       "      <td>NaN</td>\n",
       "      <td>NaN</td>\n",
       "      <td>positive</td>\n",
       "      <td>0.362479</td>\n",
       "    </tr>\n",
       "  </tbody>\n",
       "</table>\n",
       "</div>"
      ],
      "text/plain": [
       "               tweet_time user_screen_name  user_location  tweet_place_name  \\\n",
       "1876  2017-09-06 23:45:33    M3lanyRosario            NaN               NaN   \n",
       "\n",
       "         label  probability  \n",
       "1876  positive     0.362479  "
      ]
     },
     "metadata": {},
     "output_type": "display_data"
    },
    {
     "data": {
      "text/html": [
       "I already evacuated Miami I'm not fucking <b>evacuating</b> Daytona"
      ],
      "text/plain": [
       "<IPython.core.display.HTML object>"
      ]
     },
     "metadata": {},
     "output_type": "display_data"
    },
    {
     "data": {
      "text/html": [
       "<div>\n",
       "<style scoped>\n",
       "    .dataframe tbody tr th:only-of-type {\n",
       "        vertical-align: middle;\n",
       "    }\n",
       "\n",
       "    .dataframe tbody tr th {\n",
       "        vertical-align: top;\n",
       "    }\n",
       "\n",
       "    .dataframe thead th {\n",
       "        text-align: right;\n",
       "    }\n",
       "</style>\n",
       "<table border=\"1\" class=\"dataframe\">\n",
       "  <thead>\n",
       "    <tr style=\"text-align: right;\">\n",
       "      <th></th>\n",
       "      <th>tweet_time</th>\n",
       "      <th>user_screen_name</th>\n",
       "      <th>user_location</th>\n",
       "      <th>tweet_place_name</th>\n",
       "      <th>label</th>\n",
       "      <th>probability</th>\n",
       "    </tr>\n",
       "  </thead>\n",
       "  <tbody>\n",
       "    <tr>\n",
       "      <td>2560</td>\n",
       "      <td>2017-09-09 15:23:25</td>\n",
       "      <td>DebraHobson7</td>\n",
       "      <td>Florida, USA</td>\n",
       "      <td>NaN</td>\n",
       "      <td>positive</td>\n",
       "      <td>0.345808</td>\n",
       "    </tr>\n",
       "  </tbody>\n",
       "</table>\n",
       "</div>"
      ],
      "text/plain": [
       "               tweet_time user_screen_name user_location  tweet_place_name  \\\n",
       "2560  2017-09-09 15:23:25     DebraHobson7  Florida, USA               NaN   \n",
       "\n",
       "         label  probability  \n",
       "2560  positive     0.345808  "
      ]
     },
     "metadata": {},
     "output_type": "display_data"
    },
    {
     "data": {
      "text/html": [
       "I fleet FL with my kids but my husband stay behind to be the hero i told him we can <b>leave</b> and take pets but oh no now am stressing direct 4"
      ],
      "text/plain": [
       "<IPython.core.display.HTML object>"
      ]
     },
     "metadata": {},
     "output_type": "display_data"
    },
    {
     "name": "stdout",
     "output_type": "stream",
     "text": [
      "\n",
      "\n",
      "265 false neutral tweets\n"
     ]
    },
    {
     "data": {
      "text/html": [
       "<div>\n",
       "<style scoped>\n",
       "    .dataframe tbody tr th:only-of-type {\n",
       "        vertical-align: middle;\n",
       "    }\n",
       "\n",
       "    .dataframe tbody tr th {\n",
       "        vertical-align: top;\n",
       "    }\n",
       "\n",
       "    .dataframe thead th {\n",
       "        text-align: right;\n",
       "    }\n",
       "</style>\n",
       "<table border=\"1\" class=\"dataframe\">\n",
       "  <thead>\n",
       "    <tr style=\"text-align: right;\">\n",
       "      <th></th>\n",
       "      <th>tweet_time</th>\n",
       "      <th>user_screen_name</th>\n",
       "      <th>user_location</th>\n",
       "      <th>tweet_place_name</th>\n",
       "      <th>label</th>\n",
       "      <th>probability</th>\n",
       "    </tr>\n",
       "  </thead>\n",
       "  <tbody>\n",
       "    <tr>\n",
       "      <td>1023</td>\n",
       "      <td>2017-09-05 23:41:09</td>\n",
       "      <td>Gabi_Vivi</td>\n",
       "      <td>Florida, USA</td>\n",
       "      <td>NaN</td>\n",
       "      <td>positive</td>\n",
       "      <td>0.505308</td>\n",
       "    </tr>\n",
       "  </tbody>\n",
       "</table>\n",
       "</div>"
      ],
      "text/plain": [
       "               tweet_time user_screen_name user_location  tweet_place_name  \\\n",
       "1023  2017-09-05 23:41:09        Gabi_Vivi  Florida, USA               NaN   \n",
       "\n",
       "         label  probability  \n",
       "1023  positive     0.505308  "
      ]
     },
     "metadata": {},
     "output_type": "display_data"
    },
    {
     "data": {
      "text/html": [
       "Me, my mom,Leo's mom: we need to <b>leave</b> and go somewhere safe since it's a Cat 5 <br>Leo: I will not leave my house!!! <br><br>😒😒😒😒😒"
      ],
      "text/plain": [
       "<IPython.core.display.HTML object>"
      ]
     },
     "metadata": {},
     "output_type": "display_data"
    },
    {
     "data": {
      "text/html": [
       "<div>\n",
       "<style scoped>\n",
       "    .dataframe tbody tr th:only-of-type {\n",
       "        vertical-align: middle;\n",
       "    }\n",
       "\n",
       "    .dataframe tbody tr th {\n",
       "        vertical-align: top;\n",
       "    }\n",
       "\n",
       "    .dataframe thead th {\n",
       "        text-align: right;\n",
       "    }\n",
       "</style>\n",
       "<table border=\"1\" class=\"dataframe\">\n",
       "  <thead>\n",
       "    <tr style=\"text-align: right;\">\n",
       "      <th></th>\n",
       "      <th>tweet_time</th>\n",
       "      <th>user_screen_name</th>\n",
       "      <th>user_location</th>\n",
       "      <th>tweet_place_name</th>\n",
       "      <th>label</th>\n",
       "      <th>probability</th>\n",
       "    </tr>\n",
       "  </thead>\n",
       "  <tbody>\n",
       "    <tr>\n",
       "      <td>12</td>\n",
       "      <td>2017-09-10 00:48:17</td>\n",
       "      <td>AimsEconomics</td>\n",
       "      <td>Tampa, FL</td>\n",
       "      <td>Florida, USA</td>\n",
       "      <td>positive</td>\n",
       "      <td>0.504721</td>\n",
       "    </tr>\n",
       "  </tbody>\n",
       "</table>\n",
       "</div>"
      ],
      "text/plain": [
       "             tweet_time user_screen_name user_location tweet_place_name  \\\n",
       "12  2017-09-10 00:48:17    AimsEconomics     Tampa, FL     Florida, USA   \n",
       "\n",
       "       label  probability  \n",
       "12  positive     0.504721  "
      ]
     },
     "metadata": {},
     "output_type": "display_data"
    },
    {
     "data": {
      "text/html": [
       "<b>Evacuating</b> to Palm Beach and the bugs are evacuating to Tampa, one of us is a bird brain ... #HurricaineIrma2017"
      ],
      "text/plain": [
       "<IPython.core.display.HTML object>"
      ]
     },
     "metadata": {},
     "output_type": "display_data"
    },
    {
     "data": {
      "text/html": [
       "<div>\n",
       "<style scoped>\n",
       "    .dataframe tbody tr th:only-of-type {\n",
       "        vertical-align: middle;\n",
       "    }\n",
       "\n",
       "    .dataframe tbody tr th {\n",
       "        vertical-align: top;\n",
       "    }\n",
       "\n",
       "    .dataframe thead th {\n",
       "        text-align: right;\n",
       "    }\n",
       "</style>\n",
       "<table border=\"1\" class=\"dataframe\">\n",
       "  <thead>\n",
       "    <tr style=\"text-align: right;\">\n",
       "      <th></th>\n",
       "      <th>tweet_time</th>\n",
       "      <th>user_screen_name</th>\n",
       "      <th>user_location</th>\n",
       "      <th>tweet_place_name</th>\n",
       "      <th>label</th>\n",
       "      <th>probability</th>\n",
       "    </tr>\n",
       "  </thead>\n",
       "  <tbody>\n",
       "    <tr>\n",
       "      <td>2040</td>\n",
       "      <td>2017-09-07 00:32:11</td>\n",
       "      <td>Carollagunass</td>\n",
       "      <td>Fort Myers, FL</td>\n",
       "      <td>NaN</td>\n",
       "      <td>positive</td>\n",
       "      <td>0.502799</td>\n",
       "    </tr>\n",
       "  </tbody>\n",
       "</table>\n",
       "</div>"
      ],
      "text/plain": [
       "               tweet_time user_screen_name   user_location  tweet_place_name  \\\n",
       "2040  2017-09-07 00:32:11    Carollagunass  Fort Myers, FL               NaN   \n",
       "\n",
       "         label  probability  \n",
       "2040  positive     0.502799  "
      ]
     },
     "metadata": {},
     "output_type": "display_data"
    },
    {
     "data": {
      "text/html": [
       "Ma get your things we're <b>leaving</b>, Jose and Katie coming for us too"
      ],
      "text/plain": [
       "<IPython.core.display.HTML object>"
      ]
     },
     "metadata": {},
     "output_type": "display_data"
    },
    {
     "data": {
      "text/html": [
       "<div>\n",
       "<style scoped>\n",
       "    .dataframe tbody tr th:only-of-type {\n",
       "        vertical-align: middle;\n",
       "    }\n",
       "\n",
       "    .dataframe tbody tr th {\n",
       "        vertical-align: top;\n",
       "    }\n",
       "\n",
       "    .dataframe thead th {\n",
       "        text-align: right;\n",
       "    }\n",
       "</style>\n",
       "<table border=\"1\" class=\"dataframe\">\n",
       "  <thead>\n",
       "    <tr style=\"text-align: right;\">\n",
       "      <th></th>\n",
       "      <th>tweet_time</th>\n",
       "      <th>user_screen_name</th>\n",
       "      <th>user_location</th>\n",
       "      <th>tweet_place_name</th>\n",
       "      <th>label</th>\n",
       "      <th>probability</th>\n",
       "    </tr>\n",
       "  </thead>\n",
       "  <tbody>\n",
       "    <tr>\n",
       "      <td>3753</td>\n",
       "      <td>2017-09-08 18:31:32</td>\n",
       "      <td>Danikinssx3</td>\n",
       "      <td>Miami, FL</td>\n",
       "      <td>NaN</td>\n",
       "      <td>negative</td>\n",
       "      <td>0.502422</td>\n",
       "    </tr>\n",
       "  </tbody>\n",
       "</table>\n",
       "</div>"
      ],
      "text/plain": [
       "               tweet_time user_screen_name user_location  tweet_place_name  \\\n",
       "3753  2017-09-08 18:31:32      Danikinssx3     Miami, FL               NaN   \n",
       "\n",
       "         label  probability  \n",
       "3753  negative     0.502422  "
      ]
     },
     "metadata": {},
     "output_type": "display_data"
    },
    {
     "data": {
      "text/html": [
       "Hope everyone in Florida stays safe. God is with us ❤️🙏🏼 I won't be <b>evacuating</b> so if anyone needs anything lmk !"
      ],
      "text/plain": [
       "<IPython.core.display.HTML object>"
      ]
     },
     "metadata": {},
     "output_type": "display_data"
    },
    {
     "data": {
      "text/html": [
       "<div>\n",
       "<style scoped>\n",
       "    .dataframe tbody tr th:only-of-type {\n",
       "        vertical-align: middle;\n",
       "    }\n",
       "\n",
       "    .dataframe tbody tr th {\n",
       "        vertical-align: top;\n",
       "    }\n",
       "\n",
       "    .dataframe thead th {\n",
       "        text-align: right;\n",
       "    }\n",
       "</style>\n",
       "<table border=\"1\" class=\"dataframe\">\n",
       "  <thead>\n",
       "    <tr style=\"text-align: right;\">\n",
       "      <th></th>\n",
       "      <th>tweet_time</th>\n",
       "      <th>user_screen_name</th>\n",
       "      <th>user_location</th>\n",
       "      <th>tweet_place_name</th>\n",
       "      <th>label</th>\n",
       "      <th>probability</th>\n",
       "    </tr>\n",
       "  </thead>\n",
       "  <tbody>\n",
       "    <tr>\n",
       "      <td>2095</td>\n",
       "      <td>2017-09-05 18:53:26</td>\n",
       "      <td>JelianMercado</td>\n",
       "      <td>Miami, FL</td>\n",
       "      <td>NaN</td>\n",
       "      <td>positive</td>\n",
       "      <td>0.502203</td>\n",
       "    </tr>\n",
       "  </tbody>\n",
       "</table>\n",
       "</div>"
      ],
      "text/plain": [
       "               tweet_time user_screen_name user_location  tweet_place_name  \\\n",
       "2095  2017-09-05 18:53:26    JelianMercado     Miami, FL               NaN   \n",
       "\n",
       "         label  probability  \n",
       "2095  positive     0.502203  "
      ]
     },
     "metadata": {},
     "output_type": "display_data"
    },
    {
     "data": {
      "text/html": [
       "Guys we're <b>evacuating</b> in the next couple of days. And if you're in the area, stay safe please!! ❤️"
      ],
      "text/plain": [
       "<IPython.core.display.HTML object>"
      ]
     },
     "metadata": {},
     "output_type": "display_data"
    },
    {
     "data": {
      "text/html": [
       "<div>\n",
       "<style scoped>\n",
       "    .dataframe tbody tr th:only-of-type {\n",
       "        vertical-align: middle;\n",
       "    }\n",
       "\n",
       "    .dataframe tbody tr th {\n",
       "        vertical-align: top;\n",
       "    }\n",
       "\n",
       "    .dataframe thead th {\n",
       "        text-align: right;\n",
       "    }\n",
       "</style>\n",
       "<table border=\"1\" class=\"dataframe\">\n",
       "  <thead>\n",
       "    <tr style=\"text-align: right;\">\n",
       "      <th></th>\n",
       "      <th>tweet_time</th>\n",
       "      <th>user_screen_name</th>\n",
       "      <th>user_location</th>\n",
       "      <th>tweet_place_name</th>\n",
       "      <th>label</th>\n",
       "      <th>probability</th>\n",
       "    </tr>\n",
       "  </thead>\n",
       "  <tbody>\n",
       "    <tr>\n",
       "      <td>454</td>\n",
       "      <td>2017-09-09 20:57:12</td>\n",
       "      <td>RacingLady88</td>\n",
       "      <td>Fort Myers, FL</td>\n",
       "      <td>NaN</td>\n",
       "      <td>positive</td>\n",
       "      <td>0.497757</td>\n",
       "    </tr>\n",
       "  </tbody>\n",
       "</table>\n",
       "</div>"
      ],
      "text/plain": [
       "              tweet_time user_screen_name   user_location  tweet_place_name  \\\n",
       "454  2017-09-09 20:57:12     RacingLady88  Fort Myers, FL               NaN   \n",
       "\n",
       "        label  probability  \n",
       "454  positive     0.497757  "
      ]
     },
     "metadata": {},
     "output_type": "display_data"
    },
    {
     "data": {
      "text/html": [
       "<b>Evacuating</b> to higher ground from #HurricanIrma going to be a bumpy ride for sure. Let's do this!"
      ],
      "text/plain": [
       "<IPython.core.display.HTML object>"
      ]
     },
     "metadata": {},
     "output_type": "display_data"
    },
    {
     "data": {
      "text/html": [
       "<div>\n",
       "<style scoped>\n",
       "    .dataframe tbody tr th:only-of-type {\n",
       "        vertical-align: middle;\n",
       "    }\n",
       "\n",
       "    .dataframe tbody tr th {\n",
       "        vertical-align: top;\n",
       "    }\n",
       "\n",
       "    .dataframe thead th {\n",
       "        text-align: right;\n",
       "    }\n",
       "</style>\n",
       "<table border=\"1\" class=\"dataframe\">\n",
       "  <thead>\n",
       "    <tr style=\"text-align: right;\">\n",
       "      <th></th>\n",
       "      <th>tweet_time</th>\n",
       "      <th>user_screen_name</th>\n",
       "      <th>user_location</th>\n",
       "      <th>tweet_place_name</th>\n",
       "      <th>label</th>\n",
       "      <th>probability</th>\n",
       "    </tr>\n",
       "  </thead>\n",
       "  <tbody>\n",
       "    <tr>\n",
       "      <td>1588</td>\n",
       "      <td>2017-09-06 12:00:53</td>\n",
       "      <td>BriannaMosley_</td>\n",
       "      <td>West Palm Beach, FL</td>\n",
       "      <td>NaN</td>\n",
       "      <td>positive</td>\n",
       "      <td>0.497658</td>\n",
       "    </tr>\n",
       "  </tbody>\n",
       "</table>\n",
       "</div>"
      ],
      "text/plain": [
       "               tweet_time user_screen_name        user_location  \\\n",
       "1588  2017-09-06 12:00:53   BriannaMosley_  West Palm Beach, FL   \n",
       "\n",
       "      tweet_place_name     label  probability  \n",
       "1588               NaN  positive     0.497658  "
      ]
     },
     "metadata": {},
     "output_type": "display_data"
    },
    {
     "data": {
      "text/html": [
       "@katebakhtiari I am <b>leaving</b> the state!!!"
      ],
      "text/plain": [
       "<IPython.core.display.HTML object>"
      ]
     },
     "metadata": {},
     "output_type": "display_data"
    },
    {
     "data": {
      "text/html": [
       "<div>\n",
       "<style scoped>\n",
       "    .dataframe tbody tr th:only-of-type {\n",
       "        vertical-align: middle;\n",
       "    }\n",
       "\n",
       "    .dataframe tbody tr th {\n",
       "        vertical-align: top;\n",
       "    }\n",
       "\n",
       "    .dataframe thead th {\n",
       "        text-align: right;\n",
       "    }\n",
       "</style>\n",
       "<table border=\"1\" class=\"dataframe\">\n",
       "  <thead>\n",
       "    <tr style=\"text-align: right;\">\n",
       "      <th></th>\n",
       "      <th>tweet_time</th>\n",
       "      <th>user_screen_name</th>\n",
       "      <th>user_location</th>\n",
       "      <th>tweet_place_name</th>\n",
       "      <th>label</th>\n",
       "      <th>probability</th>\n",
       "    </tr>\n",
       "  </thead>\n",
       "  <tbody>\n",
       "    <tr>\n",
       "      <td>2326</td>\n",
       "      <td>2017-09-09 13:28:53</td>\n",
       "      <td>hellonwheelz84</td>\n",
       "      <td>Near Sarasota, FL</td>\n",
       "      <td>NaN</td>\n",
       "      <td>positive</td>\n",
       "      <td>0.496667</td>\n",
       "    </tr>\n",
       "  </tbody>\n",
       "</table>\n",
       "</div>"
      ],
      "text/plain": [
       "               tweet_time user_screen_name      user_location  \\\n",
       "2326  2017-09-09 13:28:53   hellonwheelz84  Near Sarasota, FL   \n",
       "\n",
       "      tweet_place_name     label  probability  \n",
       "2326               NaN  positive     0.496667  "
      ]
     },
     "metadata": {},
     "output_type": "display_data"
    },
    {
     "data": {
      "text/html": [
       "We are <b>leaving</b>. We are going to Tallahassee. Our area is slated to get a direct hit. This is so unreal."
      ],
      "text/plain": [
       "<IPython.core.display.HTML object>"
      ]
     },
     "metadata": {},
     "output_type": "display_data"
    },
    {
     "data": {
      "text/html": [
       "<div>\n",
       "<style scoped>\n",
       "    .dataframe tbody tr th:only-of-type {\n",
       "        vertical-align: middle;\n",
       "    }\n",
       "\n",
       "    .dataframe tbody tr th {\n",
       "        vertical-align: top;\n",
       "    }\n",
       "\n",
       "    .dataframe thead th {\n",
       "        text-align: right;\n",
       "    }\n",
       "</style>\n",
       "<table border=\"1\" class=\"dataframe\">\n",
       "  <thead>\n",
       "    <tr style=\"text-align: right;\">\n",
       "      <th></th>\n",
       "      <th>tweet_time</th>\n",
       "      <th>user_screen_name</th>\n",
       "      <th>user_location</th>\n",
       "      <th>tweet_place_name</th>\n",
       "      <th>label</th>\n",
       "      <th>probability</th>\n",
       "    </tr>\n",
       "  </thead>\n",
       "  <tbody>\n",
       "    <tr>\n",
       "      <td>4859</td>\n",
       "      <td>2017-09-07 05:44:17</td>\n",
       "      <td>tb_agent0</td>\n",
       "      <td>Marco Island, FL</td>\n",
       "      <td>NaN</td>\n",
       "      <td>negative</td>\n",
       "      <td>0.496423</td>\n",
       "    </tr>\n",
       "  </tbody>\n",
       "</table>\n",
       "</div>"
      ],
      "text/plain": [
       "               tweet_time user_screen_name     user_location  \\\n",
       "4859  2017-09-07 05:44:17        tb_agent0  Marco Island, FL   \n",
       "\n",
       "      tweet_place_name     label  probability  \n",
       "4859               NaN  negative     0.496423  "
      ]
     },
     "metadata": {},
     "output_type": "display_data"
    },
    {
     "data": {
      "text/html": [
       "y'all think we're crazy for not <b>leaving</b>..what takes ppl 2 hrs to get to Tampa is taking ppl 6 hrs..i-75 is too packed for all these ppl"
      ],
      "text/plain": [
       "<IPython.core.display.HTML object>"
      ]
     },
     "metadata": {},
     "output_type": "display_data"
    },
    {
     "data": {
      "text/html": [
       "<div>\n",
       "<style scoped>\n",
       "    .dataframe tbody tr th:only-of-type {\n",
       "        vertical-align: middle;\n",
       "    }\n",
       "\n",
       "    .dataframe tbody tr th {\n",
       "        vertical-align: top;\n",
       "    }\n",
       "\n",
       "    .dataframe thead th {\n",
       "        text-align: right;\n",
       "    }\n",
       "</style>\n",
       "<table border=\"1\" class=\"dataframe\">\n",
       "  <thead>\n",
       "    <tr style=\"text-align: right;\">\n",
       "      <th></th>\n",
       "      <th>tweet_time</th>\n",
       "      <th>user_screen_name</th>\n",
       "      <th>user_location</th>\n",
       "      <th>tweet_place_name</th>\n",
       "      <th>label</th>\n",
       "      <th>probability</th>\n",
       "    </tr>\n",
       "  </thead>\n",
       "  <tbody>\n",
       "    <tr>\n",
       "      <td>2120</td>\n",
       "      <td>2017-09-07 03:32:39</td>\n",
       "      <td>LadyBeccaBeauty</td>\n",
       "      <td>Florida, USA</td>\n",
       "      <td>NaN</td>\n",
       "      <td>positive</td>\n",
       "      <td>0.495853</td>\n",
       "    </tr>\n",
       "  </tbody>\n",
       "</table>\n",
       "</div>"
      ],
      "text/plain": [
       "               tweet_time user_screen_name user_location  tweet_place_name  \\\n",
       "2120  2017-09-07 03:32:39  LadyBeccaBeauty  Florida, USA               NaN   \n",
       "\n",
       "         label  probability  \n",
       "2120  positive     0.495853  "
      ]
     },
     "metadata": {},
     "output_type": "display_data"
    },
    {
     "data": {
      "text/html": [
       "@Jaclynhill Stay safe! We are thinking about <b>leaving</b> too! She's a bad one, not sure I want to ride it out. 🙏🏼🙏🏼🙏🏼🙏🏼"
      ],
      "text/plain": [
       "<IPython.core.display.HTML object>"
      ]
     },
     "metadata": {},
     "output_type": "display_data"
    },
    {
     "data": {
      "text/html": [
       "<div>\n",
       "<style scoped>\n",
       "    .dataframe tbody tr th:only-of-type {\n",
       "        vertical-align: middle;\n",
       "    }\n",
       "\n",
       "    .dataframe tbody tr th {\n",
       "        vertical-align: top;\n",
       "    }\n",
       "\n",
       "    .dataframe thead th {\n",
       "        text-align: right;\n",
       "    }\n",
       "</style>\n",
       "<table border=\"1\" class=\"dataframe\">\n",
       "  <thead>\n",
       "    <tr style=\"text-align: right;\">\n",
       "      <th></th>\n",
       "      <th>tweet_time</th>\n",
       "      <th>user_screen_name</th>\n",
       "      <th>user_location</th>\n",
       "      <th>tweet_place_name</th>\n",
       "      <th>label</th>\n",
       "      <th>probability</th>\n",
       "    </tr>\n",
       "  </thead>\n",
       "  <tbody>\n",
       "    <tr>\n",
       "      <td>1095</td>\n",
       "      <td>2017-09-09 12:42:43</td>\n",
       "      <td>LauraLeeBordas</td>\n",
       "      <td>Florida</td>\n",
       "      <td>NaN</td>\n",
       "      <td>negative</td>\n",
       "      <td>0.495264</td>\n",
       "    </tr>\n",
       "  </tbody>\n",
       "</table>\n",
       "</div>"
      ],
      "text/plain": [
       "               tweet_time user_screen_name user_location  tweet_place_name  \\\n",
       "1095  2017-09-09 12:42:43   LauraLeeBordas       Florida               NaN   \n",
       "\n",
       "         label  probability  \n",
       "1095  negative     0.495264  "
      ]
     },
     "metadata": {},
     "output_type": "display_data"
    },
    {
     "data": {
      "text/html": [
       "@Kevs924 @Stupotsy @glblchangedjt @JC20204 @MzMJ106 @WelshGoodLife @Alsmithbig @porrello_dana @JoniPrincess @BWANA86a @vachilly64 @evilkittycat56 @momof24u @Canyonlandsgrl @dinmark2 @Zarrello2017 @DelGue3 @tweets1959 @RetNavyPatriot @BonnieKirkTodd3 @FranCifelli @Snazz53 @TechQn @miceemouse @pegchandler @law_america @Bob_Haire @RobertMabr @dsherr13 @MInArizona @BlueSea1964 @Jodi04527454 @TurntableKittah @Ladies4Trump15 @JohnWUSMC @BethanyJuno @wrow51 @kkbrando @bgood12345 @Truthshovel @steveveling @rtoberl @Jsurfer0730 @gilligan_girl @jitterbug212 @BonesR4Dogs @RoDavisII @tinamaria64 @vee85185999 @rsalvhus1 Thanks Keven My Momis in Lakeland they left for a shelter an hour ago. I cant get hubby to <b>leave</b> and I wont leave himWe cant get out anyway"
      ],
      "text/plain": [
       "<IPython.core.display.HTML object>"
      ]
     },
     "metadata": {},
     "output_type": "display_data"
    },
    {
     "data": {
      "text/html": [
       "<div>\n",
       "<style scoped>\n",
       "    .dataframe tbody tr th:only-of-type {\n",
       "        vertical-align: middle;\n",
       "    }\n",
       "\n",
       "    .dataframe tbody tr th {\n",
       "        vertical-align: top;\n",
       "    }\n",
       "\n",
       "    .dataframe thead th {\n",
       "        text-align: right;\n",
       "    }\n",
       "</style>\n",
       "<table border=\"1\" class=\"dataframe\">\n",
       "  <thead>\n",
       "    <tr style=\"text-align: right;\">\n",
       "      <th></th>\n",
       "      <th>tweet_time</th>\n",
       "      <th>user_screen_name</th>\n",
       "      <th>user_location</th>\n",
       "      <th>tweet_place_name</th>\n",
       "      <th>label</th>\n",
       "      <th>probability</th>\n",
       "    </tr>\n",
       "  </thead>\n",
       "  <tbody>\n",
       "    <tr>\n",
       "      <td>1246</td>\n",
       "      <td>2017-09-09 13:05:38</td>\n",
       "      <td>aerose99</td>\n",
       "      <td>Melbourne, FL</td>\n",
       "      <td>NaN</td>\n",
       "      <td>negative</td>\n",
       "      <td>0.495199</td>\n",
       "    </tr>\n",
       "  </tbody>\n",
       "</table>\n",
       "</div>"
      ],
      "text/plain": [
       "               tweet_time user_screen_name  user_location  tweet_place_name  \\\n",
       "1246  2017-09-09 13:05:38         aerose99  Melbourne, FL               NaN   \n",
       "\n",
       "         label  probability  \n",
       "1246  negative     0.495199  "
      ]
     },
     "metadata": {},
     "output_type": "display_data"
    },
    {
     "data": {
      "text/html": [
       "The more hurricane Irma shifts West, the happier I am that I didn't <b>evacuate</b>."
      ],
      "text/plain": [
       "<IPython.core.display.HTML object>"
      ]
     },
     "metadata": {},
     "output_type": "display_data"
    },
    {
     "data": {
      "text/html": [
       "<div>\n",
       "<style scoped>\n",
       "    .dataframe tbody tr th:only-of-type {\n",
       "        vertical-align: middle;\n",
       "    }\n",
       "\n",
       "    .dataframe tbody tr th {\n",
       "        vertical-align: top;\n",
       "    }\n",
       "\n",
       "    .dataframe thead th {\n",
       "        text-align: right;\n",
       "    }\n",
       "</style>\n",
       "<table border=\"1\" class=\"dataframe\">\n",
       "  <thead>\n",
       "    <tr style=\"text-align: right;\">\n",
       "      <th></th>\n",
       "      <th>tweet_time</th>\n",
       "      <th>user_screen_name</th>\n",
       "      <th>user_location</th>\n",
       "      <th>tweet_place_name</th>\n",
       "      <th>label</th>\n",
       "      <th>probability</th>\n",
       "    </tr>\n",
       "  </thead>\n",
       "  <tbody>\n",
       "    <tr>\n",
       "      <td>2728</td>\n",
       "      <td>2017-09-09 15:45:36</td>\n",
       "      <td>TB_MikeB</td>\n",
       "      <td>Wesley Chapel, FL</td>\n",
       "      <td>NaN</td>\n",
       "      <td>positive</td>\n",
       "      <td>0.486759</td>\n",
       "    </tr>\n",
       "  </tbody>\n",
       "</table>\n",
       "</div>"
      ],
      "text/plain": [
       "               tweet_time user_screen_name      user_location  \\\n",
       "2728  2017-09-09 15:45:36         TB_MikeB  Wesley Chapel, FL   \n",
       "\n",
       "      tweet_place_name     label  probability  \n",
       "2728               NaN  positive     0.486759  "
      ]
     },
     "metadata": {},
     "output_type": "display_data"
    },
    {
     "data": {
      "text/html": [
       "Never ever thought I'd <b>evacuate</b> my home."
      ],
      "text/plain": [
       "<IPython.core.display.HTML object>"
      ]
     },
     "metadata": {},
     "output_type": "display_data"
    },
    {
     "data": {
      "text/html": [
       "<div>\n",
       "<style scoped>\n",
       "    .dataframe tbody tr th:only-of-type {\n",
       "        vertical-align: middle;\n",
       "    }\n",
       "\n",
       "    .dataframe tbody tr th {\n",
       "        vertical-align: top;\n",
       "    }\n",
       "\n",
       "    .dataframe thead th {\n",
       "        text-align: right;\n",
       "    }\n",
       "</style>\n",
       "<table border=\"1\" class=\"dataframe\">\n",
       "  <thead>\n",
       "    <tr style=\"text-align: right;\">\n",
       "      <th></th>\n",
       "      <th>tweet_time</th>\n",
       "      <th>user_screen_name</th>\n",
       "      <th>user_location</th>\n",
       "      <th>tweet_place_name</th>\n",
       "      <th>label</th>\n",
       "      <th>probability</th>\n",
       "    </tr>\n",
       "  </thead>\n",
       "  <tbody>\n",
       "    <tr>\n",
       "      <td>1648</td>\n",
       "      <td>2017-09-05 12:19:00</td>\n",
       "      <td>DJ_TONEKAPONE</td>\n",
       "      <td>Orlando, FL</td>\n",
       "      <td>NaN</td>\n",
       "      <td>positive</td>\n",
       "      <td>0.482402</td>\n",
       "    </tr>\n",
       "  </tbody>\n",
       "</table>\n",
       "</div>"
      ],
      "text/plain": [
       "               tweet_time user_screen_name user_location  tweet_place_name  \\\n",
       "1648  2017-09-05 12:19:00    DJ_TONEKAPONE   Orlando, FL               NaN   \n",
       "\n",
       "         label  probability  \n",
       "1648  positive     0.482402  "
      ]
     },
     "metadata": {},
     "output_type": "display_data"
    },
    {
     "data": {
      "text/html": [
       "Yup I'm <b>leaving</b> the state for this hurricane fuck that"
      ],
      "text/plain": [
       "<IPython.core.display.HTML object>"
      ]
     },
     "metadata": {},
     "output_type": "display_data"
    },
    {
     "data": {
      "text/html": [
       "<div>\n",
       "<style scoped>\n",
       "    .dataframe tbody tr th:only-of-type {\n",
       "        vertical-align: middle;\n",
       "    }\n",
       "\n",
       "    .dataframe tbody tr th {\n",
       "        vertical-align: top;\n",
       "    }\n",
       "\n",
       "    .dataframe thead th {\n",
       "        text-align: right;\n",
       "    }\n",
       "</style>\n",
       "<table border=\"1\" class=\"dataframe\">\n",
       "  <thead>\n",
       "    <tr style=\"text-align: right;\">\n",
       "      <th></th>\n",
       "      <th>tweet_time</th>\n",
       "      <th>user_screen_name</th>\n",
       "      <th>user_location</th>\n",
       "      <th>tweet_place_name</th>\n",
       "      <th>label</th>\n",
       "      <th>probability</th>\n",
       "    </tr>\n",
       "  </thead>\n",
       "  <tbody>\n",
       "    <tr>\n",
       "      <td>239</td>\n",
       "      <td>2017-09-09 15:52:53</td>\n",
       "      <td>JT_Evans97</td>\n",
       "      <td>NaN</td>\n",
       "      <td>NaN</td>\n",
       "      <td>positive</td>\n",
       "      <td>0.477112</td>\n",
       "    </tr>\n",
       "  </tbody>\n",
       "</table>\n",
       "</div>"
      ],
      "text/plain": [
       "              tweet_time user_screen_name  user_location  tweet_place_name  \\\n",
       "239  2017-09-09 15:52:53       JT_Evans97            NaN               NaN   \n",
       "\n",
       "        label  probability  \n",
       "239  positive     0.477112  "
      ]
     },
     "metadata": {},
     "output_type": "display_data"
    },
    {
     "data": {
      "text/html": [
       "Good news for Miami the storm has shifted west but Tampa in danger now, <b>evacuating</b> now stay safe everyone"
      ],
      "text/plain": [
       "<IPython.core.display.HTML object>"
      ]
     },
     "metadata": {},
     "output_type": "display_data"
    },
    {
     "data": {
      "text/html": [
       "<div>\n",
       "<style scoped>\n",
       "    .dataframe tbody tr th:only-of-type {\n",
       "        vertical-align: middle;\n",
       "    }\n",
       "\n",
       "    .dataframe tbody tr th {\n",
       "        vertical-align: top;\n",
       "    }\n",
       "\n",
       "    .dataframe thead th {\n",
       "        text-align: right;\n",
       "    }\n",
       "</style>\n",
       "<table border=\"1\" class=\"dataframe\">\n",
       "  <thead>\n",
       "    <tr style=\"text-align: right;\">\n",
       "      <th></th>\n",
       "      <th>tweet_time</th>\n",
       "      <th>user_screen_name</th>\n",
       "      <th>user_location</th>\n",
       "      <th>tweet_place_name</th>\n",
       "      <th>label</th>\n",
       "      <th>probability</th>\n",
       "    </tr>\n",
       "  </thead>\n",
       "  <tbody>\n",
       "    <tr>\n",
       "      <td>2357</td>\n",
       "      <td>2017-09-07 20:12:56</td>\n",
       "      <td>karenellen45</td>\n",
       "      <td>Florida's Space Coast</td>\n",
       "      <td>South Patrick Shores, FL</td>\n",
       "      <td>positive</td>\n",
       "      <td>0.476732</td>\n",
       "    </tr>\n",
       "  </tbody>\n",
       "</table>\n",
       "</div>"
      ],
      "text/plain": [
       "               tweet_time user_screen_name          user_location  \\\n",
       "2357  2017-09-07 20:12:56     karenellen45  Florida's Space Coast   \n",
       "\n",
       "              tweet_place_name     label  probability  \n",
       "2357  South Patrick Shores, FL  positive     0.476732  "
      ]
     },
     "metadata": {},
     "output_type": "display_data"
    },
    {
     "data": {
      "text/html": [
       "Could you tell me what a 10' storm surge means for Satellite Beach (etc) area? We're <b>leaving</b>, but worried @EricBurrisWESH @TMainolfiWESH"
      ],
      "text/plain": [
       "<IPython.core.display.HTML object>"
      ]
     },
     "metadata": {},
     "output_type": "display_data"
    },
    {
     "data": {
      "text/html": [
       "<div>\n",
       "<style scoped>\n",
       "    .dataframe tbody tr th:only-of-type {\n",
       "        vertical-align: middle;\n",
       "    }\n",
       "\n",
       "    .dataframe tbody tr th {\n",
       "        vertical-align: top;\n",
       "    }\n",
       "\n",
       "    .dataframe thead th {\n",
       "        text-align: right;\n",
       "    }\n",
       "</style>\n",
       "<table border=\"1\" class=\"dataframe\">\n",
       "  <thead>\n",
       "    <tr style=\"text-align: right;\">\n",
       "      <th></th>\n",
       "      <th>tweet_time</th>\n",
       "      <th>user_screen_name</th>\n",
       "      <th>user_location</th>\n",
       "      <th>tweet_place_name</th>\n",
       "      <th>label</th>\n",
       "      <th>probability</th>\n",
       "    </tr>\n",
       "  </thead>\n",
       "  <tbody>\n",
       "    <tr>\n",
       "      <td>143</td>\n",
       "      <td>2017-09-09 13:05:06</td>\n",
       "      <td>David3oh5</td>\n",
       "      <td>NaN</td>\n",
       "      <td>NaN</td>\n",
       "      <td>positive</td>\n",
       "      <td>0.471609</td>\n",
       "    </tr>\n",
       "  </tbody>\n",
       "</table>\n",
       "</div>"
      ],
      "text/plain": [
       "              tweet_time user_screen_name  user_location  tweet_place_name  \\\n",
       "143  2017-09-09 13:05:06        David3oh5            NaN               NaN   \n",
       "\n",
       "        label  probability  \n",
       "143  positive     0.471609  "
      ]
     },
     "metadata": {},
     "output_type": "display_data"
    },
    {
     "data": {
      "text/html": [
       "<b>Leaving</b> Tampa for Orlando. As long as #HurricaneIrma doesn't know, I should be safe. No one tell her."
      ],
      "text/plain": [
       "<IPython.core.display.HTML object>"
      ]
     },
     "metadata": {},
     "output_type": "display_data"
    },
    {
     "data": {
      "text/html": [
       "<div>\n",
       "<style scoped>\n",
       "    .dataframe tbody tr th:only-of-type {\n",
       "        vertical-align: middle;\n",
       "    }\n",
       "\n",
       "    .dataframe tbody tr th {\n",
       "        vertical-align: top;\n",
       "    }\n",
       "\n",
       "    .dataframe thead th {\n",
       "        text-align: right;\n",
       "    }\n",
       "</style>\n",
       "<table border=\"1\" class=\"dataframe\">\n",
       "  <thead>\n",
       "    <tr style=\"text-align: right;\">\n",
       "      <th></th>\n",
       "      <th>tweet_time</th>\n",
       "      <th>user_screen_name</th>\n",
       "      <th>user_location</th>\n",
       "      <th>tweet_place_name</th>\n",
       "      <th>label</th>\n",
       "      <th>probability</th>\n",
       "    </tr>\n",
       "  </thead>\n",
       "  <tbody>\n",
       "    <tr>\n",
       "      <td>2901</td>\n",
       "      <td>2017-09-08 20:19:04</td>\n",
       "      <td>kikacol</td>\n",
       "      <td>Treasure Coast, Florida</td>\n",
       "      <td>NaN</td>\n",
       "      <td>negative</td>\n",
       "      <td>0.44554</td>\n",
       "    </tr>\n",
       "  </tbody>\n",
       "</table>\n",
       "</div>"
      ],
      "text/plain": [
       "               tweet_time user_screen_name            user_location  \\\n",
       "2901  2017-09-08 20:19:04          kikacol  Treasure Coast, Florida   \n",
       "\n",
       "      tweet_place_name     label  probability  \n",
       "2901               NaN  negative      0.44554  "
      ]
     },
     "metadata": {},
     "output_type": "display_data"
    },
    {
     "data": {
      "text/html": [
       "@AlongsideWild Yesterday was peak. We just finished boarding up house while fending off well-meaning Midwesterners telling us to OMG <b>evacuate</b> last 3 days."
      ],
      "text/plain": [
       "<IPython.core.display.HTML object>"
      ]
     },
     "metadata": {},
     "output_type": "display_data"
    },
    {
     "data": {
      "text/html": [
       "<div>\n",
       "<style scoped>\n",
       "    .dataframe tbody tr th:only-of-type {\n",
       "        vertical-align: middle;\n",
       "    }\n",
       "\n",
       "    .dataframe tbody tr th {\n",
       "        vertical-align: top;\n",
       "    }\n",
       "\n",
       "    .dataframe thead th {\n",
       "        text-align: right;\n",
       "    }\n",
       "</style>\n",
       "<table border=\"1\" class=\"dataframe\">\n",
       "  <thead>\n",
       "    <tr style=\"text-align: right;\">\n",
       "      <th></th>\n",
       "      <th>tweet_time</th>\n",
       "      <th>user_screen_name</th>\n",
       "      <th>user_location</th>\n",
       "      <th>tweet_place_name</th>\n",
       "      <th>label</th>\n",
       "      <th>probability</th>\n",
       "    </tr>\n",
       "  </thead>\n",
       "  <tbody>\n",
       "    <tr>\n",
       "      <td>1742</td>\n",
       "      <td>2017-09-06 23:42:23</td>\n",
       "      <td>HBJaguar</td>\n",
       "      <td>718 to 609 to 904 to 407</td>\n",
       "      <td>NaN</td>\n",
       "      <td>positive</td>\n",
       "      <td>0.437421</td>\n",
       "    </tr>\n",
       "  </tbody>\n",
       "</table>\n",
       "</div>"
      ],
      "text/plain": [
       "               tweet_time user_screen_name             user_location  \\\n",
       "1742  2017-09-06 23:42:23         HBJaguar  718 to 609 to 904 to 407   \n",
       "\n",
       "      tweet_place_name     label  probability  \n",
       "1742               NaN  positive     0.437421  "
      ]
     },
     "metadata": {},
     "output_type": "display_data"
    },
    {
     "data": {
      "text/html": [
       "@ShawnaLeneeShow Yep he should be just fine with the current projections. I'm <b>leaving</b> Jacksonville as we speak."
      ],
      "text/plain": [
       "<IPython.core.display.HTML object>"
      ]
     },
     "metadata": {},
     "output_type": "display_data"
    },
    {
     "data": {
      "text/html": [
       "<div>\n",
       "<style scoped>\n",
       "    .dataframe tbody tr th:only-of-type {\n",
       "        vertical-align: middle;\n",
       "    }\n",
       "\n",
       "    .dataframe tbody tr th {\n",
       "        vertical-align: top;\n",
       "    }\n",
       "\n",
       "    .dataframe thead th {\n",
       "        text-align: right;\n",
       "    }\n",
       "</style>\n",
       "<table border=\"1\" class=\"dataframe\">\n",
       "  <thead>\n",
       "    <tr style=\"text-align: right;\">\n",
       "      <th></th>\n",
       "      <th>tweet_time</th>\n",
       "      <th>user_screen_name</th>\n",
       "      <th>user_location</th>\n",
       "      <th>tweet_place_name</th>\n",
       "      <th>label</th>\n",
       "      <th>probability</th>\n",
       "    </tr>\n",
       "  </thead>\n",
       "  <tbody>\n",
       "    <tr>\n",
       "      <td>2437</td>\n",
       "      <td>2017-09-05 15:12:40</td>\n",
       "      <td>rachelking237</td>\n",
       "      <td>Tampa, FL</td>\n",
       "      <td>NaN</td>\n",
       "      <td>positive</td>\n",
       "      <td>0.43009</td>\n",
       "    </tr>\n",
       "  </tbody>\n",
       "</table>\n",
       "</div>"
      ],
      "text/plain": [
       "               tweet_time user_screen_name user_location  tweet_place_name  \\\n",
       "2437  2017-09-05 15:12:40    rachelking237     Tampa, FL               NaN   \n",
       "\n",
       "         label  probability  \n",
       "2437  positive      0.43009  "
      ]
     },
     "metadata": {},
     "output_type": "display_data"
    },
    {
     "data": {
      "text/html": [
       "@conradoconnell Everyone is already panic buying. Long gas lines, no bottled water. We are <b>evacuating</b> Fri night, live less than a mile from the coast."
      ],
      "text/plain": [
       "<IPython.core.display.HTML object>"
      ]
     },
     "metadata": {},
     "output_type": "display_data"
    },
    {
     "name": "stdout",
     "output_type": "stream",
     "text": [
      "\n",
      "\n",
      "333 false positive tweets\n"
     ]
    },
    {
     "data": {
      "text/html": [
       "<div>\n",
       "<style scoped>\n",
       "    .dataframe tbody tr th:only-of-type {\n",
       "        vertical-align: middle;\n",
       "    }\n",
       "\n",
       "    .dataframe tbody tr th {\n",
       "        vertical-align: top;\n",
       "    }\n",
       "\n",
       "    .dataframe thead th {\n",
       "        text-align: right;\n",
       "    }\n",
       "</style>\n",
       "<table border=\"1\" class=\"dataframe\">\n",
       "  <thead>\n",
       "    <tr style=\"text-align: right;\">\n",
       "      <th></th>\n",
       "      <th>tweet_time</th>\n",
       "      <th>user_screen_name</th>\n",
       "      <th>user_location</th>\n",
       "      <th>tweet_place_name</th>\n",
       "      <th>label</th>\n",
       "      <th>probability</th>\n",
       "    </tr>\n",
       "  </thead>\n",
       "  <tbody>\n",
       "    <tr>\n",
       "      <td>1836</td>\n",
       "      <td>2017-09-08 16:04:05</td>\n",
       "      <td>KristenLickens</td>\n",
       "      <td>Tampa, Orlando &amp; ✈ me to you</td>\n",
       "      <td>NaN</td>\n",
       "      <td>neutral</td>\n",
       "      <td>0.513448</td>\n",
       "    </tr>\n",
       "  </tbody>\n",
       "</table>\n",
       "</div>"
      ],
      "text/plain": [
       "               tweet_time user_screen_name                 user_location  \\\n",
       "1836  2017-09-08 16:04:05   KristenLickens  Tampa, Orlando & ✈ me to you   \n",
       "\n",
       "      tweet_place_name    label  probability  \n",
       "1836               NaN  neutral     0.513448  "
      ]
     },
     "metadata": {},
     "output_type": "display_data"
    },
    {
     "data": {
      "text/html": [
       "@Fixsweeny Im heading out for sandbags but I told my wife to pack to <b>leave</b>."
      ],
      "text/plain": [
       "<IPython.core.display.HTML object>"
      ]
     },
     "metadata": {},
     "output_type": "display_data"
    },
    {
     "data": {
      "text/html": [
       "<div>\n",
       "<style scoped>\n",
       "    .dataframe tbody tr th:only-of-type {\n",
       "        vertical-align: middle;\n",
       "    }\n",
       "\n",
       "    .dataframe tbody tr th {\n",
       "        vertical-align: top;\n",
       "    }\n",
       "\n",
       "    .dataframe thead th {\n",
       "        text-align: right;\n",
       "    }\n",
       "</style>\n",
       "<table border=\"1\" class=\"dataframe\">\n",
       "  <thead>\n",
       "    <tr style=\"text-align: right;\">\n",
       "      <th></th>\n",
       "      <th>tweet_time</th>\n",
       "      <th>user_screen_name</th>\n",
       "      <th>user_location</th>\n",
       "      <th>tweet_place_name</th>\n",
       "      <th>label</th>\n",
       "      <th>probability</th>\n",
       "    </tr>\n",
       "  </thead>\n",
       "  <tbody>\n",
       "    <tr>\n",
       "      <td>354</td>\n",
       "      <td>2017-09-07 13:55:37</td>\n",
       "      <td>MT_Cassidy</td>\n",
       "      <td>Fort Myers, FL</td>\n",
       "      <td>NaN</td>\n",
       "      <td>neutral</td>\n",
       "      <td>0.509953</td>\n",
       "    </tr>\n",
       "  </tbody>\n",
       "</table>\n",
       "</div>"
      ],
      "text/plain": [
       "              tweet_time user_screen_name   user_location  tweet_place_name  \\\n",
       "354  2017-09-07 13:55:37       MT_Cassidy  Fort Myers, FL               NaN   \n",
       "\n",
       "       label  probability  \n",
       "354  neutral     0.509953  "
      ]
     },
     "metadata": {},
     "output_type": "display_data"
    },
    {
     "data": {
      "text/html": [
       "@jennrosee81 <b>Leaving</b> town?"
      ],
      "text/plain": [
       "<IPython.core.display.HTML object>"
      ]
     },
     "metadata": {},
     "output_type": "display_data"
    },
    {
     "data": {
      "text/html": [
       "<div>\n",
       "<style scoped>\n",
       "    .dataframe tbody tr th:only-of-type {\n",
       "        vertical-align: middle;\n",
       "    }\n",
       "\n",
       "    .dataframe tbody tr th {\n",
       "        vertical-align: top;\n",
       "    }\n",
       "\n",
       "    .dataframe thead th {\n",
       "        text-align: right;\n",
       "    }\n",
       "</style>\n",
       "<table border=\"1\" class=\"dataframe\">\n",
       "  <thead>\n",
       "    <tr style=\"text-align: right;\">\n",
       "      <th></th>\n",
       "      <th>tweet_time</th>\n",
       "      <th>user_screen_name</th>\n",
       "      <th>user_location</th>\n",
       "      <th>tweet_place_name</th>\n",
       "      <th>label</th>\n",
       "      <th>probability</th>\n",
       "    </tr>\n",
       "  </thead>\n",
       "  <tbody>\n",
       "    <tr>\n",
       "      <td>2433</td>\n",
       "      <td>2017-09-07 02:48:46</td>\n",
       "      <td>princessria_</td>\n",
       "      <td>Miami, FL</td>\n",
       "      <td>NaN</td>\n",
       "      <td>neutral</td>\n",
       "      <td>0.509895</td>\n",
       "    </tr>\n",
       "  </tbody>\n",
       "</table>\n",
       "</div>"
      ],
      "text/plain": [
       "               tweet_time user_screen_name user_location  tweet_place_name  \\\n",
       "2433  2017-09-07 02:48:46     princessria_     Miami, FL               NaN   \n",
       "\n",
       "        label  probability  \n",
       "2433  neutral     0.509895  "
      ]
     },
     "metadata": {},
     "output_type": "display_data"
    },
    {
     "data": {
      "text/html": [
       "@crystalcubillos We are <b>leaving</b> girl I ain't waiting to see what happens"
      ],
      "text/plain": [
       "<IPython.core.display.HTML object>"
      ]
     },
     "metadata": {},
     "output_type": "display_data"
    },
    {
     "data": {
      "text/html": [
       "<div>\n",
       "<style scoped>\n",
       "    .dataframe tbody tr th:only-of-type {\n",
       "        vertical-align: middle;\n",
       "    }\n",
       "\n",
       "    .dataframe tbody tr th {\n",
       "        vertical-align: top;\n",
       "    }\n",
       "\n",
       "    .dataframe thead th {\n",
       "        text-align: right;\n",
       "    }\n",
       "</style>\n",
       "<table border=\"1\" class=\"dataframe\">\n",
       "  <thead>\n",
       "    <tr style=\"text-align: right;\">\n",
       "      <th></th>\n",
       "      <th>tweet_time</th>\n",
       "      <th>user_screen_name</th>\n",
       "      <th>user_location</th>\n",
       "      <th>tweet_place_name</th>\n",
       "      <th>label</th>\n",
       "      <th>probability</th>\n",
       "    </tr>\n",
       "  </thead>\n",
       "  <tbody>\n",
       "    <tr>\n",
       "      <td>2777</td>\n",
       "      <td>2017-09-05 19:52:17</td>\n",
       "      <td>_yevelys_</td>\n",
       "      <td>Miami, FL</td>\n",
       "      <td>NaN</td>\n",
       "      <td>neutral</td>\n",
       "      <td>0.509871</td>\n",
       "    </tr>\n",
       "  </tbody>\n",
       "</table>\n",
       "</div>"
      ],
      "text/plain": [
       "               tweet_time user_screen_name user_location  tweet_place_name  \\\n",
       "2777  2017-09-05 19:52:17        _yevelys_     Miami, FL               NaN   \n",
       "\n",
       "        label  probability  \n",
       "2777  neutral     0.509871  "
      ]
     },
     "metadata": {},
     "output_type": "display_data"
    },
    {
     "data": {
      "text/html": [
       "supposed to be <b>leaving</b> to Puerto Rico on Thursday now cus of this hurricane they might cancel my flight."
      ],
      "text/plain": [
       "<IPython.core.display.HTML object>"
      ]
     },
     "metadata": {},
     "output_type": "display_data"
    },
    {
     "data": {
      "text/html": [
       "<div>\n",
       "<style scoped>\n",
       "    .dataframe tbody tr th:only-of-type {\n",
       "        vertical-align: middle;\n",
       "    }\n",
       "\n",
       "    .dataframe tbody tr th {\n",
       "        vertical-align: top;\n",
       "    }\n",
       "\n",
       "    .dataframe thead th {\n",
       "        text-align: right;\n",
       "    }\n",
       "</style>\n",
       "<table border=\"1\" class=\"dataframe\">\n",
       "  <thead>\n",
       "    <tr style=\"text-align: right;\">\n",
       "      <th></th>\n",
       "      <th>tweet_time</th>\n",
       "      <th>user_screen_name</th>\n",
       "      <th>user_location</th>\n",
       "      <th>tweet_place_name</th>\n",
       "      <th>label</th>\n",
       "      <th>probability</th>\n",
       "    </tr>\n",
       "  </thead>\n",
       "  <tbody>\n",
       "    <tr>\n",
       "      <td>608</td>\n",
       "      <td>2017-09-07 00:08:02</td>\n",
       "      <td>AngelCurras1</td>\n",
       "      <td>Florida, USA</td>\n",
       "      <td>NaN</td>\n",
       "      <td>negative</td>\n",
       "      <td>0.507803</td>\n",
       "    </tr>\n",
       "  </tbody>\n",
       "</table>\n",
       "</div>"
      ],
      "text/plain": [
       "              tweet_time user_screen_name user_location  tweet_place_name  \\\n",
       "608  2017-09-07 00:08:02     AngelCurras1  Florida, USA               NaN   \n",
       "\n",
       "        label  probability  \n",
       "608  negative     0.507803  "
      ]
     },
     "metadata": {},
     "output_type": "display_data"
    },
    {
     "data": {
      "text/html": [
       "@Smokes_Angel Can't <b>leave</b> ! No flights going out and I have to perform tmmw and friday night playing Jazz !"
      ],
      "text/plain": [
       "<IPython.core.display.HTML object>"
      ]
     },
     "metadata": {},
     "output_type": "display_data"
    },
    {
     "data": {
      "text/html": [
       "<div>\n",
       "<style scoped>\n",
       "    .dataframe tbody tr th:only-of-type {\n",
       "        vertical-align: middle;\n",
       "    }\n",
       "\n",
       "    .dataframe tbody tr th {\n",
       "        vertical-align: top;\n",
       "    }\n",
       "\n",
       "    .dataframe thead th {\n",
       "        text-align: right;\n",
       "    }\n",
       "</style>\n",
       "<table border=\"1\" class=\"dataframe\">\n",
       "  <thead>\n",
       "    <tr style=\"text-align: right;\">\n",
       "      <th></th>\n",
       "      <th>tweet_time</th>\n",
       "      <th>user_screen_name</th>\n",
       "      <th>user_location</th>\n",
       "      <th>tweet_place_name</th>\n",
       "      <th>label</th>\n",
       "      <th>probability</th>\n",
       "    </tr>\n",
       "  </thead>\n",
       "  <tbody>\n",
       "    <tr>\n",
       "      <td>3483</td>\n",
       "      <td>2017-09-08 03:28:46</td>\n",
       "      <td>Leeam_E</td>\n",
       "      <td>Miami, FL</td>\n",
       "      <td>NaN</td>\n",
       "      <td>neutral</td>\n",
       "      <td>0.507737</td>\n",
       "    </tr>\n",
       "  </tbody>\n",
       "</table>\n",
       "</div>"
      ],
      "text/plain": [
       "               tweet_time user_screen_name user_location  tweet_place_name  \\\n",
       "3483  2017-09-08 03:28:46          Leeam_E     Miami, FL               NaN   \n",
       "\n",
       "        label  probability  \n",
       "3483  neutral     0.507737  "
      ]
     },
     "metadata": {},
     "output_type": "display_data"
    },
    {
     "data": {
      "text/html": [
       "For y'all <b>leaving</b> Florida my friend left at 11am from Hollywood this morning and it's already 11pm and she still hasn't made it out"
      ],
      "text/plain": [
       "<IPython.core.display.HTML object>"
      ]
     },
     "metadata": {},
     "output_type": "display_data"
    },
    {
     "data": {
      "text/html": [
       "<div>\n",
       "<style scoped>\n",
       "    .dataframe tbody tr th:only-of-type {\n",
       "        vertical-align: middle;\n",
       "    }\n",
       "\n",
       "    .dataframe tbody tr th {\n",
       "        vertical-align: top;\n",
       "    }\n",
       "\n",
       "    .dataframe thead th {\n",
       "        text-align: right;\n",
       "    }\n",
       "</style>\n",
       "<table border=\"1\" class=\"dataframe\">\n",
       "  <thead>\n",
       "    <tr style=\"text-align: right;\">\n",
       "      <th></th>\n",
       "      <th>tweet_time</th>\n",
       "      <th>user_screen_name</th>\n",
       "      <th>user_location</th>\n",
       "      <th>tweet_place_name</th>\n",
       "      <th>label</th>\n",
       "      <th>probability</th>\n",
       "    </tr>\n",
       "  </thead>\n",
       "  <tbody>\n",
       "    <tr>\n",
       "      <td>3559</td>\n",
       "      <td>2017-09-08 20:19:00</td>\n",
       "      <td>Meagan__6661</td>\n",
       "      <td>Daytona Beach, FL</td>\n",
       "      <td>NaN</td>\n",
       "      <td>negative</td>\n",
       "      <td>0.506208</td>\n",
       "    </tr>\n",
       "  </tbody>\n",
       "</table>\n",
       "</div>"
      ],
      "text/plain": [
       "               tweet_time user_screen_name      user_location  \\\n",
       "3559  2017-09-08 20:19:00     Meagan__6661  Daytona Beach, FL   \n",
       "\n",
       "      tweet_place_name     label  probability  \n",
       "3559               NaN  negative     0.506208  "
      ]
     },
     "metadata": {},
     "output_type": "display_data"
    },
    {
     "data": {
      "text/html": [
       "@BasicallyIDoWrk @MiniLaddd Traffic <b>leaving</b> Florida is ridiculous. My parents left at 5 am and just got into Georgia from Daytona. I'm staying home, fuck that."
      ],
      "text/plain": [
       "<IPython.core.display.HTML object>"
      ]
     },
     "metadata": {},
     "output_type": "display_data"
    },
    {
     "data": {
      "text/html": [
       "<div>\n",
       "<style scoped>\n",
       "    .dataframe tbody tr th:only-of-type {\n",
       "        vertical-align: middle;\n",
       "    }\n",
       "\n",
       "    .dataframe tbody tr th {\n",
       "        vertical-align: top;\n",
       "    }\n",
       "\n",
       "    .dataframe thead th {\n",
       "        text-align: right;\n",
       "    }\n",
       "</style>\n",
       "<table border=\"1\" class=\"dataframe\">\n",
       "  <thead>\n",
       "    <tr style=\"text-align: right;\">\n",
       "      <th></th>\n",
       "      <th>tweet_time</th>\n",
       "      <th>user_screen_name</th>\n",
       "      <th>user_location</th>\n",
       "      <th>tweet_place_name</th>\n",
       "      <th>label</th>\n",
       "      <th>probability</th>\n",
       "    </tr>\n",
       "  </thead>\n",
       "  <tbody>\n",
       "    <tr>\n",
       "      <td>2887</td>\n",
       "      <td>2017-09-04 22:59:53</td>\n",
       "      <td>jmkjor</td>\n",
       "      <td>Orlando, FL</td>\n",
       "      <td>NaN</td>\n",
       "      <td>neutral</td>\n",
       "      <td>0.501871</td>\n",
       "    </tr>\n",
       "  </tbody>\n",
       "</table>\n",
       "</div>"
      ],
      "text/plain": [
       "               tweet_time user_screen_name user_location  tweet_place_name  \\\n",
       "2887  2017-09-04 22:59:53           jmkjor   Orlando, FL               NaN   \n",
       "\n",
       "        label  probability  \n",
       "2887  neutral     0.501871  "
      ]
     },
     "metadata": {},
     "output_type": "display_data"
    },
    {
     "data": {
      "text/html": [
       "For those planning on <b>evacuating</b> for Irma, bring your fucking pets."
      ],
      "text/plain": [
       "<IPython.core.display.HTML object>"
      ]
     },
     "metadata": {},
     "output_type": "display_data"
    },
    {
     "data": {
      "text/html": [
       "<div>\n",
       "<style scoped>\n",
       "    .dataframe tbody tr th:only-of-type {\n",
       "        vertical-align: middle;\n",
       "    }\n",
       "\n",
       "    .dataframe tbody tr th {\n",
       "        vertical-align: top;\n",
       "    }\n",
       "\n",
       "    .dataframe thead th {\n",
       "        text-align: right;\n",
       "    }\n",
       "</style>\n",
       "<table border=\"1\" class=\"dataframe\">\n",
       "  <thead>\n",
       "    <tr style=\"text-align: right;\">\n",
       "      <th></th>\n",
       "      <th>tweet_time</th>\n",
       "      <th>user_screen_name</th>\n",
       "      <th>user_location</th>\n",
       "      <th>tweet_place_name</th>\n",
       "      <th>label</th>\n",
       "      <th>probability</th>\n",
       "    </tr>\n",
       "  </thead>\n",
       "  <tbody>\n",
       "    <tr>\n",
       "      <td>2337</td>\n",
       "      <td>2017-09-08 19:42:37</td>\n",
       "      <td>incenseoakley</td>\n",
       "      <td>florida</td>\n",
       "      <td>NaN</td>\n",
       "      <td>negative</td>\n",
       "      <td>0.499041</td>\n",
       "    </tr>\n",
       "  </tbody>\n",
       "</table>\n",
       "</div>"
      ],
      "text/plain": [
       "               tweet_time user_screen_name user_location  tweet_place_name  \\\n",
       "2337  2017-09-08 19:42:37    incenseoakley       florida               NaN   \n",
       "\n",
       "         label  probability  \n",
       "2337  negative     0.499041  "
      ]
     },
     "metadata": {},
     "output_type": "display_data"
    },
    {
     "data": {
      "text/html": [
       "@whiskersoakley i will, i don't think we're <b>evacuating</b> bc the hotels in north florida are all full and it's a bit too late"
      ],
      "text/plain": [
       "<IPython.core.display.HTML object>"
      ]
     },
     "metadata": {},
     "output_type": "display_data"
    },
    {
     "data": {
      "text/html": [
       "<div>\n",
       "<style scoped>\n",
       "    .dataframe tbody tr th:only-of-type {\n",
       "        vertical-align: middle;\n",
       "    }\n",
       "\n",
       "    .dataframe tbody tr th {\n",
       "        vertical-align: top;\n",
       "    }\n",
       "\n",
       "    .dataframe thead th {\n",
       "        text-align: right;\n",
       "    }\n",
       "</style>\n",
       "<table border=\"1\" class=\"dataframe\">\n",
       "  <thead>\n",
       "    <tr style=\"text-align: right;\">\n",
       "      <th></th>\n",
       "      <th>tweet_time</th>\n",
       "      <th>user_screen_name</th>\n",
       "      <th>user_location</th>\n",
       "      <th>tweet_place_name</th>\n",
       "      <th>label</th>\n",
       "      <th>probability</th>\n",
       "    </tr>\n",
       "  </thead>\n",
       "  <tbody>\n",
       "    <tr>\n",
       "      <td>1797</td>\n",
       "      <td>2017-09-07 21:43:20</td>\n",
       "      <td>Jsajem</td>\n",
       "      <td>Miami, FL</td>\n",
       "      <td>NaN</td>\n",
       "      <td>negative</td>\n",
       "      <td>0.498794</td>\n",
       "    </tr>\n",
       "  </tbody>\n",
       "</table>\n",
       "</div>"
      ],
      "text/plain": [
       "               tweet_time user_screen_name user_location  tweet_place_name  \\\n",
       "1797  2017-09-07 21:43:20           Jsajem     Miami, FL               NaN   \n",
       "\n",
       "         label  probability  \n",
       "1797  negative     0.498794  "
      ]
     },
     "metadata": {},
     "output_type": "display_data"
    },
    {
     "data": {
      "text/html": [
       "I'm only <b>evacuating</b> bc the government is making me. I'm being taken against my own will"
      ],
      "text/plain": [
       "<IPython.core.display.HTML object>"
      ]
     },
     "metadata": {},
     "output_type": "display_data"
    },
    {
     "data": {
      "text/html": [
       "<div>\n",
       "<style scoped>\n",
       "    .dataframe tbody tr th:only-of-type {\n",
       "        vertical-align: middle;\n",
       "    }\n",
       "\n",
       "    .dataframe tbody tr th {\n",
       "        vertical-align: top;\n",
       "    }\n",
       "\n",
       "    .dataframe thead th {\n",
       "        text-align: right;\n",
       "    }\n",
       "</style>\n",
       "<table border=\"1\" class=\"dataframe\">\n",
       "  <thead>\n",
       "    <tr style=\"text-align: right;\">\n",
       "      <th></th>\n",
       "      <th>tweet_time</th>\n",
       "      <th>user_screen_name</th>\n",
       "      <th>user_location</th>\n",
       "      <th>tweet_place_name</th>\n",
       "      <th>label</th>\n",
       "      <th>probability</th>\n",
       "    </tr>\n",
       "  </thead>\n",
       "  <tbody>\n",
       "    <tr>\n",
       "      <td>2018</td>\n",
       "      <td>2017-09-06 21:44:39</td>\n",
       "      <td>AshleyFaithxx3</td>\n",
       "      <td>Miami, FL</td>\n",
       "      <td>NaN</td>\n",
       "      <td>neutral</td>\n",
       "      <td>0.497812</td>\n",
       "    </tr>\n",
       "  </tbody>\n",
       "</table>\n",
       "</div>"
      ],
      "text/plain": [
       "               tweet_time user_screen_name user_location  tweet_place_name  \\\n",
       "2018  2017-09-06 21:44:39   AshleyFaithxx3     Miami, FL               NaN   \n",
       "\n",
       "        label  probability  \n",
       "2018  neutral     0.497812  "
      ]
     },
     "metadata": {},
     "output_type": "display_data"
    },
    {
     "data": {
      "text/html": [
       "@Saratopiaa Lol we are only <b>leaving</b> depending on what track it takes"
      ],
      "text/plain": [
       "<IPython.core.display.HTML object>"
      ]
     },
     "metadata": {},
     "output_type": "display_data"
    },
    {
     "data": {
      "text/html": [
       "<div>\n",
       "<style scoped>\n",
       "    .dataframe tbody tr th:only-of-type {\n",
       "        vertical-align: middle;\n",
       "    }\n",
       "\n",
       "    .dataframe tbody tr th {\n",
       "        vertical-align: top;\n",
       "    }\n",
       "\n",
       "    .dataframe thead th {\n",
       "        text-align: right;\n",
       "    }\n",
       "</style>\n",
       "<table border=\"1\" class=\"dataframe\">\n",
       "  <thead>\n",
       "    <tr style=\"text-align: right;\">\n",
       "      <th></th>\n",
       "      <th>tweet_time</th>\n",
       "      <th>user_screen_name</th>\n",
       "      <th>user_location</th>\n",
       "      <th>tweet_place_name</th>\n",
       "      <th>label</th>\n",
       "      <th>probability</th>\n",
       "    </tr>\n",
       "  </thead>\n",
       "  <tbody>\n",
       "    <tr>\n",
       "      <td>89</td>\n",
       "      <td>2017-09-07 19:19:15</td>\n",
       "      <td>CWELCHNC</td>\n",
       "      <td>NaN</td>\n",
       "      <td>Orlando, FL</td>\n",
       "      <td>neutral</td>\n",
       "      <td>0.496522</td>\n",
       "    </tr>\n",
       "  </tbody>\n",
       "</table>\n",
       "</div>"
      ],
      "text/plain": [
       "             tweet_time user_screen_name  user_location tweet_place_name  \\\n",
       "89  2017-09-07 19:19:15         CWELCHNC            NaN      Orlando, FL   \n",
       "\n",
       "      label  probability  \n",
       "89  neutral     0.496522  "
      ]
     },
     "metadata": {},
     "output_type": "display_data"
    },
    {
     "data": {
      "text/html": [
       "Gov: <b>evacuating</b> more National Guard members to help open shelters #Irma2017"
      ],
      "text/plain": [
       "<IPython.core.display.HTML object>"
      ]
     },
     "metadata": {},
     "output_type": "display_data"
    },
    {
     "data": {
      "text/html": [
       "<div>\n",
       "<style scoped>\n",
       "    .dataframe tbody tr th:only-of-type {\n",
       "        vertical-align: middle;\n",
       "    }\n",
       "\n",
       "    .dataframe tbody tr th {\n",
       "        vertical-align: top;\n",
       "    }\n",
       "\n",
       "    .dataframe thead th {\n",
       "        text-align: right;\n",
       "    }\n",
       "</style>\n",
       "<table border=\"1\" class=\"dataframe\">\n",
       "  <thead>\n",
       "    <tr style=\"text-align: right;\">\n",
       "      <th></th>\n",
       "      <th>tweet_time</th>\n",
       "      <th>user_screen_name</th>\n",
       "      <th>user_location</th>\n",
       "      <th>tweet_place_name</th>\n",
       "      <th>label</th>\n",
       "      <th>probability</th>\n",
       "    </tr>\n",
       "  </thead>\n",
       "  <tbody>\n",
       "    <tr>\n",
       "      <td>3713</td>\n",
       "      <td>2017-09-08 03:05:42</td>\n",
       "      <td>jstmejeff</td>\n",
       "      <td>Orlando, FL</td>\n",
       "      <td>NaN</td>\n",
       "      <td>negative</td>\n",
       "      <td>0.49599</td>\n",
       "    </tr>\n",
       "  </tbody>\n",
       "</table>\n",
       "</div>"
      ],
      "text/plain": [
       "               tweet_time user_screen_name user_location  tweet_place_name  \\\n",
       "3713  2017-09-08 03:05:42        jstmejeff   Orlando, FL               NaN   \n",
       "\n",
       "         label  probability  \n",
       "3713  negative      0.49599  "
      ]
     },
     "metadata": {},
     "output_type": "display_data"
    },
    {
     "data": {
      "text/html": [
       "@debswim2010 i want to <b>leave</b> but with traffic and little gas gonna stay and hope for the best, plan for the worst.  Stay safe"
      ],
      "text/plain": [
       "<IPython.core.display.HTML object>"
      ]
     },
     "metadata": {},
     "output_type": "display_data"
    },
    {
     "data": {
      "text/html": [
       "<div>\n",
       "<style scoped>\n",
       "    .dataframe tbody tr th:only-of-type {\n",
       "        vertical-align: middle;\n",
       "    }\n",
       "\n",
       "    .dataframe tbody tr th {\n",
       "        vertical-align: top;\n",
       "    }\n",
       "\n",
       "    .dataframe thead th {\n",
       "        text-align: right;\n",
       "    }\n",
       "</style>\n",
       "<table border=\"1\" class=\"dataframe\">\n",
       "  <thead>\n",
       "    <tr style=\"text-align: right;\">\n",
       "      <th></th>\n",
       "      <th>tweet_time</th>\n",
       "      <th>user_screen_name</th>\n",
       "      <th>user_location</th>\n",
       "      <th>tweet_place_name</th>\n",
       "      <th>label</th>\n",
       "      <th>probability</th>\n",
       "    </tr>\n",
       "  </thead>\n",
       "  <tbody>\n",
       "    <tr>\n",
       "      <td>2689</td>\n",
       "      <td>2017-09-06 15:06:33</td>\n",
       "      <td>Qu3Qa09</td>\n",
       "      <td>Fort Lauderdale, FL</td>\n",
       "      <td>NaN</td>\n",
       "      <td>neutral</td>\n",
       "      <td>0.494895</td>\n",
       "    </tr>\n",
       "  </tbody>\n",
       "</table>\n",
       "</div>"
      ],
      "text/plain": [
       "               tweet_time user_screen_name        user_location  \\\n",
       "2689  2017-09-06 15:06:33          Qu3Qa09  Fort Lauderdale, FL   \n",
       "\n",
       "      tweet_place_name    label  probability  \n",
       "2689               NaN  neutral     0.494895  "
      ]
     },
     "metadata": {},
     "output_type": "display_data"
    },
    {
     "data": {
      "text/html": [
       "I still have no water, I don't get paid until Friday which sucks because by Friday I probably won't be <b>leaving</b> my house"
      ],
      "text/plain": [
       "<IPython.core.display.HTML object>"
      ]
     },
     "metadata": {},
     "output_type": "display_data"
    },
    {
     "data": {
      "text/html": [
       "<div>\n",
       "<style scoped>\n",
       "    .dataframe tbody tr th:only-of-type {\n",
       "        vertical-align: middle;\n",
       "    }\n",
       "\n",
       "    .dataframe tbody tr th {\n",
       "        vertical-align: top;\n",
       "    }\n",
       "\n",
       "    .dataframe thead th {\n",
       "        text-align: right;\n",
       "    }\n",
       "</style>\n",
       "<table border=\"1\" class=\"dataframe\">\n",
       "  <thead>\n",
       "    <tr style=\"text-align: right;\">\n",
       "      <th></th>\n",
       "      <th>tweet_time</th>\n",
       "      <th>user_screen_name</th>\n",
       "      <th>user_location</th>\n",
       "      <th>tweet_place_name</th>\n",
       "      <th>label</th>\n",
       "      <th>probability</th>\n",
       "    </tr>\n",
       "  </thead>\n",
       "  <tbody>\n",
       "    <tr>\n",
       "      <td>3725</td>\n",
       "      <td>2017-09-06 21:32:58</td>\n",
       "      <td>_thegoatgoat</td>\n",
       "      <td>University, FL</td>\n",
       "      <td>University, FL</td>\n",
       "      <td>neutral</td>\n",
       "      <td>0.484429</td>\n",
       "    </tr>\n",
       "  </tbody>\n",
       "</table>\n",
       "</div>"
      ],
      "text/plain": [
       "               tweet_time user_screen_name   user_location tweet_place_name  \\\n",
       "3725  2017-09-06 21:32:58     _thegoatgoat  University, FL   University, FL   \n",
       "\n",
       "        label  probability  \n",
       "3725  neutral     0.484429  "
      ]
     },
     "metadata": {},
     "output_type": "display_data"
    },
    {
     "data": {
      "text/html": [
       "Why is everyone <b>evacuating</b> Florida when it's just gonna hit New Orleans?"
      ],
      "text/plain": [
       "<IPython.core.display.HTML object>"
      ]
     },
     "metadata": {},
     "output_type": "display_data"
    },
    {
     "data": {
      "text/html": [
       "<div>\n",
       "<style scoped>\n",
       "    .dataframe tbody tr th:only-of-type {\n",
       "        vertical-align: middle;\n",
       "    }\n",
       "\n",
       "    .dataframe tbody tr th {\n",
       "        vertical-align: top;\n",
       "    }\n",
       "\n",
       "    .dataframe thead th {\n",
       "        text-align: right;\n",
       "    }\n",
       "</style>\n",
       "<table border=\"1\" class=\"dataframe\">\n",
       "  <thead>\n",
       "    <tr style=\"text-align: right;\">\n",
       "      <th></th>\n",
       "      <th>tweet_time</th>\n",
       "      <th>user_screen_name</th>\n",
       "      <th>user_location</th>\n",
       "      <th>tweet_place_name</th>\n",
       "      <th>label</th>\n",
       "      <th>probability</th>\n",
       "    </tr>\n",
       "  </thead>\n",
       "  <tbody>\n",
       "    <tr>\n",
       "      <td>2794</td>\n",
       "      <td>2017-09-09 19:35:50</td>\n",
       "      <td>autumncarterx</td>\n",
       "      <td>Florida, USA</td>\n",
       "      <td>NaN</td>\n",
       "      <td>neutral</td>\n",
       "      <td>0.483153</td>\n",
       "    </tr>\n",
       "  </tbody>\n",
       "</table>\n",
       "</div>"
      ],
      "text/plain": [
       "               tweet_time user_screen_name user_location  tweet_place_name  \\\n",
       "2794  2017-09-09 19:35:50    autumncarterx  Florida, USA               NaN   \n",
       "\n",
       "        label  probability  \n",
       "2794  neutral     0.483153  "
      ]
     },
     "metadata": {},
     "output_type": "display_data"
    },
    {
     "data": {
      "text/html": [
       "We supposed to be <b>evacuating</b> an ppl out here throwing hurricane party's 🤦🏼‍♀️ Floridians."
      ],
      "text/plain": [
       "<IPython.core.display.HTML object>"
      ]
     },
     "metadata": {},
     "output_type": "display_data"
    },
    {
     "data": {
      "text/html": [
       "<div>\n",
       "<style scoped>\n",
       "    .dataframe tbody tr th:only-of-type {\n",
       "        vertical-align: middle;\n",
       "    }\n",
       "\n",
       "    .dataframe tbody tr th {\n",
       "        vertical-align: top;\n",
       "    }\n",
       "\n",
       "    .dataframe thead th {\n",
       "        text-align: right;\n",
       "    }\n",
       "</style>\n",
       "<table border=\"1\" class=\"dataframe\">\n",
       "  <thead>\n",
       "    <tr style=\"text-align: right;\">\n",
       "      <th></th>\n",
       "      <th>tweet_time</th>\n",
       "      <th>user_screen_name</th>\n",
       "      <th>user_location</th>\n",
       "      <th>tweet_place_name</th>\n",
       "      <th>label</th>\n",
       "      <th>probability</th>\n",
       "    </tr>\n",
       "  </thead>\n",
       "  <tbody>\n",
       "    <tr>\n",
       "      <td>3851</td>\n",
       "      <td>2017-09-08 20:24:32</td>\n",
       "      <td>karen_rummy</td>\n",
       "      <td>Thonotosassa, FL</td>\n",
       "      <td>NaN</td>\n",
       "      <td>negative</td>\n",
       "      <td>0.478771</td>\n",
       "    </tr>\n",
       "  </tbody>\n",
       "</table>\n",
       "</div>"
      ],
      "text/plain": [
       "               tweet_time user_screen_name     user_location  \\\n",
       "3851  2017-09-08 20:24:32      karen_rummy  Thonotosassa, FL   \n",
       "\n",
       "      tweet_place_name     label  probability  \n",
       "3851               NaN  negative     0.478771  "
      ]
     },
     "metadata": {},
     "output_type": "display_data"
    },
    {
     "data": {
      "text/html": [
       "@FLGovScott We are riding this out, have too many animals to <b>evacuate</b>. Hopefully all will be ok. We are just outside Tampa in Thonotosassa. Be safe all!"
      ],
      "text/plain": [
       "<IPython.core.display.HTML object>"
      ]
     },
     "metadata": {},
     "output_type": "display_data"
    },
    {
     "data": {
      "text/html": [
       "<div>\n",
       "<style scoped>\n",
       "    .dataframe tbody tr th:only-of-type {\n",
       "        vertical-align: middle;\n",
       "    }\n",
       "\n",
       "    .dataframe tbody tr th {\n",
       "        vertical-align: top;\n",
       "    }\n",
       "\n",
       "    .dataframe thead th {\n",
       "        text-align: right;\n",
       "    }\n",
       "</style>\n",
       "<table border=\"1\" class=\"dataframe\">\n",
       "  <thead>\n",
       "    <tr style=\"text-align: right;\">\n",
       "      <th></th>\n",
       "      <th>tweet_time</th>\n",
       "      <th>user_screen_name</th>\n",
       "      <th>user_location</th>\n",
       "      <th>tweet_place_name</th>\n",
       "      <th>label</th>\n",
       "      <th>probability</th>\n",
       "    </tr>\n",
       "  </thead>\n",
       "  <tbody>\n",
       "    <tr>\n",
       "      <td>2909</td>\n",
       "      <td>2017-09-06 07:35:44</td>\n",
       "      <td>laurathomsonx</td>\n",
       "      <td>Paisley</td>\n",
       "      <td>NaN</td>\n",
       "      <td>neutral</td>\n",
       "      <td>0.454338</td>\n",
       "    </tr>\n",
       "  </tbody>\n",
       "</table>\n",
       "</div>"
      ],
      "text/plain": [
       "               tweet_time user_screen_name user_location  tweet_place_name  \\\n",
       "2909  2017-09-06 07:35:44    laurathomsonx      Paisley                NaN   \n",
       "\n",
       "        label  probability  \n",
       "2909  neutral     0.454338  "
      ]
     },
     "metadata": {},
     "output_type": "display_data"
    },
    {
     "data": {
      "text/html": [
       "@keenanwioootkel @laurencmcdonald That's ok with me... difficult <b>leaving</b> yous anyways"
      ],
      "text/plain": [
       "<IPython.core.display.HTML object>"
      ]
     },
     "metadata": {},
     "output_type": "display_data"
    },
    {
     "data": {
      "text/html": [
       "<div>\n",
       "<style scoped>\n",
       "    .dataframe tbody tr th:only-of-type {\n",
       "        vertical-align: middle;\n",
       "    }\n",
       "\n",
       "    .dataframe tbody tr th {\n",
       "        vertical-align: top;\n",
       "    }\n",
       "\n",
       "    .dataframe thead th {\n",
       "        text-align: right;\n",
       "    }\n",
       "</style>\n",
       "<table border=\"1\" class=\"dataframe\">\n",
       "  <thead>\n",
       "    <tr style=\"text-align: right;\">\n",
       "      <th></th>\n",
       "      <th>tweet_time</th>\n",
       "      <th>user_screen_name</th>\n",
       "      <th>user_location</th>\n",
       "      <th>tweet_place_name</th>\n",
       "      <th>label</th>\n",
       "      <th>probability</th>\n",
       "    </tr>\n",
       "  </thead>\n",
       "  <tbody>\n",
       "    <tr>\n",
       "      <td>433</td>\n",
       "      <td>2017-09-08 07:35:14</td>\n",
       "      <td>Only1DaniNicole</td>\n",
       "      <td>Florida, USA</td>\n",
       "      <td>NaN</td>\n",
       "      <td>neutral</td>\n",
       "      <td>0.426388</td>\n",
       "    </tr>\n",
       "  </tbody>\n",
       "</table>\n",
       "</div>"
      ],
      "text/plain": [
       "              tweet_time user_screen_name user_location  tweet_place_name  \\\n",
       "433  2017-09-08 07:35:14  Only1DaniNicole  Florida, USA               NaN   \n",
       "\n",
       "       label  probability  \n",
       "433  neutral     0.426388  "
      ]
     },
     "metadata": {},
     "output_type": "display_data"
    },
    {
     "data": {
      "text/html": [
       "@FLGovScott my family and I are scared to <b>leave</b> Broward county because there have been reports of \"no gas anywhere\" heading north out of FL"
      ],
      "text/plain": [
       "<IPython.core.display.HTML object>"
      ]
     },
     "metadata": {},
     "output_type": "display_data"
    },
    {
     "data": {
      "text/html": [
       "<div>\n",
       "<style scoped>\n",
       "    .dataframe tbody tr th:only-of-type {\n",
       "        vertical-align: middle;\n",
       "    }\n",
       "\n",
       "    .dataframe tbody tr th {\n",
       "        vertical-align: top;\n",
       "    }\n",
       "\n",
       "    .dataframe thead th {\n",
       "        text-align: right;\n",
       "    }\n",
       "</style>\n",
       "<table border=\"1\" class=\"dataframe\">\n",
       "  <thead>\n",
       "    <tr style=\"text-align: right;\">\n",
       "      <th></th>\n",
       "      <th>tweet_time</th>\n",
       "      <th>user_screen_name</th>\n",
       "      <th>user_location</th>\n",
       "      <th>tweet_place_name</th>\n",
       "      <th>label</th>\n",
       "      <th>probability</th>\n",
       "    </tr>\n",
       "  </thead>\n",
       "  <tbody>\n",
       "    <tr>\n",
       "      <td>4943</td>\n",
       "      <td>2017-09-05 03:00:48</td>\n",
       "      <td>sanctifyer1</td>\n",
       "      <td>Florida, USA</td>\n",
       "      <td>NaN</td>\n",
       "      <td>neutral</td>\n",
       "      <td>0.383771</td>\n",
       "    </tr>\n",
       "  </tbody>\n",
       "</table>\n",
       "</div>"
      ],
      "text/plain": [
       "               tweet_time user_screen_name user_location  tweet_place_name  \\\n",
       "4943  2017-09-05 03:00:48      sanctifyer1  Florida, USA               NaN   \n",
       "\n",
       "        label  probability  \n",
       "4943  neutral     0.383771  "
      ]
     },
     "metadata": {},
     "output_type": "display_data"
    },
    {
     "data": {
      "text/html": [
       "@laurefindiI here in tampa it was ok, ive never left this house for a hurricane in all my 20 years but were talking about <b>leaving</b> and im.. nervous"
      ],
      "text/plain": [
       "<IPython.core.display.HTML object>"
      ]
     },
     "metadata": {},
     "output_type": "display_data"
    }
   ],
   "source": [
    "false_preds = {}\n",
    "for label in clf.classes_:\n",
    "    indices = indices_of_top_false_positives(y, preds, probas, list(clf.classes_), label)\n",
    "    false_preds[label] = indices\n",
    "    fp_tweets = tweets_before_landfall(labeled_tweets).iloc[indices].copy() ## labeled_tweets\n",
    "    fp_tweets['probability'] = probas[indices, list(clf.classes_).index(label)]\n",
    "    print(f'\\n\\n{len(fp_tweets)} false {label} tweets')\n",
    "    for idx, tweet in fp_tweets.iloc[-20:].iterrows():\n",
    "        display(series2df(tweet)[['tweet_time', 'user_screen_name', 'user_location', 'tweet_place_name', 'label', 'probability']])\n",
    "        display(fommatted_text(tweet.text))"
   ]
  },
  {
   "cell_type": "markdown",
   "metadata": {},
   "source": [
    "### LSTM"
   ]
  },
  {
   "cell_type": "code",
   "execution_count": 8,
   "metadata": {},
   "outputs": [],
   "source": [
    "import os\n",
    "os.environ[\"CUDA_DEVICE_ORDER\"]=\"PCI_BUS_ID\"\n",
    "os.environ[\"CUDA_VISIBLE_DEVICES\"]=\"1\""
   ]
  },
  {
   "cell_type": "code",
   "execution_count": 9,
   "metadata": {},
   "outputs": [
    {
     "name": "stdout",
     "output_type": "stream",
     "text": [
      "1 Physical GPUs, 1 Logical GPUs\n"
     ]
    }
   ],
   "source": [
    "import tensorflow as tf\n",
    "#import tensorflow.keras.backend as K\n",
    "#config = tf.ConfigProto()\n",
    "#config.gpu_options.allow_growth = True\n",
    "#config.gpu_options.per_process_gpu_memory_fraction = 0.3\n",
    "#K.tensorflow_backend.set_session(tf.Session(config=config))\n",
    "\n",
    "gpus = tf.config.experimental.list_physical_devices('GPU')\n",
    "for gpu in gpus:\n",
    "    tf.config.experimental.set_memory_growth(gpu, True)\n",
    "logical_gpus = tf.config.experimental.list_logical_devices('GPU')\n",
    "print(len(gpus), \"Physical GPUs,\", len(logical_gpus), \"Logical GPUs\")"
   ]
  },
  {
   "cell_type": "code",
   "execution_count": 149,
   "metadata": {},
   "outputs": [],
   "source": [
    "from keras.preprocessing.text import Tokenizer\n",
    "from keras.preprocessing.sequence import pad_sequences\n",
    "from keras.layers import Dense, Input, Embedding, LSTM, Conv1D, MaxPooling1D\n",
    "from keras.models import Model\n",
    "from keras.optimizers import Adam\n",
    "\n",
    "def get_samples(tweets, neg_hack=True, min_df=4):\n",
    "    tokenizer = Tokenizer(filters='', lower=False, oov_token='OOV')\n",
    "    tweet_texts = [tokenize(txt, neg_hack=neg_hack) for txt in tweets.text]\n",
    "    tokenizer.fit_on_texts(tweet_texts)\n",
    "    print('%s unique tokens' % len(tokenizer.word_index))\n",
    "    tokenizer.num_words = sum(df >= min_df for df in tokenizer.word_docs.values()) # min_df\n",
    "    print('%d terms preserved' % tokenizer.num_words)\n",
    "    \n",
    "    X_seq = tokenizer.texts_to_sequences(tweet_texts)\n",
    "    lens = [len(seq) for seq in X_seq]\n",
    "    print('sequence length from %d to %d' % (min(lens), max(lens)))\n",
    "    X_pad = pad_sequences(X_seq, padding=\"pre\")\n",
    "    \n",
    "    dummies = pd.get_dummies(tweets.label)\n",
    "    Y = dummies.values\n",
    "    classes = dummies.columns.values\n",
    "    return X_pad, Y, classes, tokenizer\n",
    "\n",
    "def get_model(\n",
    "    input_length,\n",
    "    output_length,\n",
    "    vocab_size, # embedding layer input_dim\n",
    "    embedding_dim=32,\n",
    "    filters=64,\n",
    "    ksize=5,\n",
    "    psize=3,\n",
    "    lstm_units=32\n",
    "):\n",
    "    x = Input((input_length,), name=\"input\")\n",
    "    e = Embedding(vocab_size, embedding_dim)(x)\n",
    "    c = Conv1D(filters=filters, kernel_size=ksize, padding='same', activation='relu')(e)\n",
    "    p = MaxPooling1D(pool_size=psize)(c)\n",
    "    l = LSTM(lstm_units)(p)\n",
    "    y = Dense(output_length, activation='softmax' if output_length > 1 else 'sigmoid')(l)\n",
    "    \n",
    "    model = Model(x, y)\n",
    "    model.compile(loss='categorical_crossentropy' if output_length > 1 else 'binary_crossentropy',\n",
    "                  optimizer='adam', metrics=['accuracy'])\n",
    "    return model\n",
    "\n",
    "def cross_validation(X, Y, labels, tokenizer, **kwargs):\n",
    "    class_weight = {i: len(Y) / num / 3 for i, num in enumerate(np.sum(Y, axis=0))}\n",
    "    cv = StratifiedKFold(n_splits=10, shuffle=True, random_state=42)\n",
    "    truths = labels[np.argmax(Y, axis=1)]\n",
    "    probas = np.zeros((len(Y), 3))\n",
    "    for train, test in tqdm(cv.split(X, truths)):\n",
    "        clf = get_model(X.shape[-1], 3, tokenizer.num_words, **kwargs)\n",
    "        h = clf.fit(X[train], Y[train], epochs=5, verbose=0, class_weight=class_weight)\n",
    "        probas[test] = clf.predict(X[test])\n",
    "    preds = labels[np.argmax(probas, axis=1)]\n",
    "\n",
    "    print(Counter(truths))\n",
    "    print(Counter(preds))\n",
    "    print(classification_report(truths, preds, target_names=labels))\n",
    "    #print('auc=%.3f (positive vs others)' % roc_auc_score(truths == 'positive', probas[:,-1]))\n",
    "    print('auc=%.3f (weighted ovr)' % roc_auc_score(truths, probas, average='weighted', multi_class='ovr', labels=labels))\n",
    "    return preds, probas\n",
    "\n",
    "def run_lstm(tweets):\n",
    "    X, Y, classes, tokenizer = get_samples(tweets)\n",
    "    preds, probas = cross_validation(X, Y, classes, tokenizer)"
   ]
  },
  {
   "cell_type": "code",
   "execution_count": 48,
   "metadata": {},
   "outputs": [],
   "source": [
    "from keras.callbacks import EarlyStopping\n",
    "from sklearn.model_selection import train_test_split\n",
    "\n",
    "def simple_train(X, Y, model, class_weight=None):\n",
    "    X_train, X_test, Y_train, Y_test = train_test_split(X, Y, test_size=0.2, random_state=42)\n",
    "    if class_weight == 'balanced':\n",
    "        class_weight = {i: len(Y) / num / 3 for i, num in enumerate(np.sum(Y, axis=0))}\n",
    "        print(class_weight)\n",
    "    history = model.fit(X_train, Y_train, epochs=20, validation_split=0.2, class_weight=class_weight,\n",
    "                        callbacks=[EarlyStopping(monitor='val_loss', patience=3, min_delta=0.0001)])\n",
    "    scores = model.evaluate(X_test, Y_test)\n",
    "    print('\\n'.join([f'{met}: {val}' for met, val in zip(['loss', 'acc'], scores)]))\n",
    "    plt.title('Accuracy')\n",
    "    plt.plot(history.history['accuracy'], label='train')\n",
    "    plt.plot(history.history['val_accuracy'], label='test')\n",
    "    plt.legend()\n",
    "    plt.show()\n",
    "\n",
    "def run_pretest(tweets):\n",
    "    X, Y, classes, tokenizer = get_samples(tweets)\n",
    "    lstm = get_model(X.shape[-1], 3, tokenizer.num_words, embedding_dim=32, filters=64, lstm_units=32)\n",
    "    simple_train(X, Y, lstm, 'balanced')"
   ]
  },
  {
   "cell_type": "code",
   "execution_count": 58,
   "metadata": {},
   "outputs": [
    {
     "name": "stderr",
     "output_type": "stream",
     "text": [
      "0it [00:00, ?it/s]"
     ]
    },
    {
     "name": "stdout",
     "output_type": "stream",
     "text": [
      "10017 unique tokens\n",
      "1692 terms preserved\n",
      "sequence length from 1 to 79\n"
     ]
    },
    {
     "name": "stderr",
     "output_type": "stream",
     "text": [
      "10it [03:53, 23.34s/it]"
     ]
    },
    {
     "name": "stdout",
     "output_type": "stream",
     "text": [
      "Counter({'neutral': 2006, 'positive': 1727, 'negative': 1267})\n",
      "Counter({'neutral': 1856, 'positive': 1744, 'negative': 1400})\n",
      "              precision    recall  f1-score   support\n",
      "\n",
      "    negative       0.72      0.79      0.76      1267\n",
      "     neutral       0.76      0.70      0.73      2006\n",
      "    positive       0.76      0.77      0.77      1727\n",
      "\n",
      "    accuracy                           0.75      5000\n",
      "   macro avg       0.75      0.75      0.75      5000\n",
      "weighted avg       0.75      0.75      0.75      5000\n",
      "\n",
      "auc=0.886 (weighted ovr)\n"
     ]
    },
    {
     "name": "stderr",
     "output_type": "stream",
     "text": [
      "\n"
     ]
    }
   ],
   "source": [
    "run_lstm(labeled_tweets)"
   ]
  },
  {
   "cell_type": "code",
   "execution_count": 59,
   "metadata": {},
   "outputs": [
    {
     "name": "stderr",
     "output_type": "stream",
     "text": [
      "0it [00:00, ?it/s]"
     ]
    },
    {
     "name": "stdout",
     "output_type": "stream",
     "text": [
      "8468 unique tokens\n",
      "1474 terms preserved\n",
      "sequence length from 1 to 79\n"
     ]
    },
    {
     "name": "stderr",
     "output_type": "stream",
     "text": [
      "10it [03:32, 21.22s/it]"
     ]
    },
    {
     "name": "stdout",
     "output_type": "stream",
     "text": [
      "Counter({'positive': 1578, 'neutral': 1434, 'negative': 1126})\n",
      "Counter({'positive': 1546, 'neutral': 1374, 'negative': 1218})\n",
      "              precision    recall  f1-score   support\n",
      "\n",
      "    negative       0.75      0.81      0.78      1126\n",
      "     neutral       0.71      0.68      0.69      1434\n",
      "    positive       0.79      0.78      0.78      1578\n",
      "\n",
      "    accuracy                           0.75      4138\n",
      "   macro avg       0.75      0.75      0.75      4138\n",
      "weighted avg       0.75      0.75      0.75      4138\n",
      "\n",
      "auc=0.887 (weighted ovr)\n"
     ]
    },
    {
     "name": "stderr",
     "output_type": "stream",
     "text": [
      "\n"
     ]
    }
   ],
   "source": [
    "run_lstm(tweets_before_landfall(labeled_tweets))"
   ]
  },
  {
   "cell_type": "code",
   "execution_count": 62,
   "metadata": {},
   "outputs": [
    {
     "name": "stderr",
     "output_type": "stream",
     "text": [
      "0it [00:00, ?it/s]"
     ]
    },
    {
     "name": "stdout",
     "output_type": "stream",
     "text": [
      "10287 unique tokens\n",
      "1712 terms preserved\n",
      "sequence length from 1 to 78\n"
     ]
    },
    {
     "name": "stderr",
     "output_type": "stream",
     "text": [
      "10it [05:04, 30.44s/it]"
     ]
    },
    {
     "name": "stdout",
     "output_type": "stream",
     "text": [
      "Counter({'neutral': 2006, 'positive': 1727, 'negative': 1267})\n",
      "Counter({'neutral': 1883, 'positive': 1739, 'negative': 1378})\n",
      "              precision    recall  f1-score   support\n",
      "\n",
      "    negative       0.74      0.80      0.77      1267\n",
      "     neutral       0.75      0.70      0.72      2006\n",
      "    positive       0.76      0.77      0.76      1727\n",
      "\n",
      "    accuracy                           0.75      5000\n",
      "   macro avg       0.75      0.76      0.75      5000\n",
      "weighted avg       0.75      0.75      0.75      5000\n",
      "\n",
      "auc=0.887 (weighted ovr)\n"
     ]
    },
    {
     "name": "stderr",
     "output_type": "stream",
     "text": [
      "\n"
     ]
    }
   ],
   "source": [
    "run_lstm(labeled_tweets) # with negation_hack"
   ]
  },
  {
   "cell_type": "code",
   "execution_count": 61,
   "metadata": {},
   "outputs": [
    {
     "name": "stderr",
     "output_type": "stream",
     "text": [
      "0it [00:00, ?it/s]"
     ]
    },
    {
     "name": "stdout",
     "output_type": "stream",
     "text": [
      "8700 unique tokens\n",
      "1486 terms preserved\n",
      "sequence length from 1 to 78\n"
     ]
    },
    {
     "name": "stderr",
     "output_type": "stream",
     "text": [
      "10it [04:01, 24.18s/it]"
     ]
    },
    {
     "name": "stdout",
     "output_type": "stream",
     "text": [
      "Counter({'positive': 1578, 'neutral': 1434, 'negative': 1126})\n",
      "Counter({'positive': 1644, 'neutral': 1331, 'negative': 1163})\n",
      "              precision    recall  f1-score   support\n",
      "\n",
      "    negative       0.77      0.80      0.78      1126\n",
      "     neutral       0.72      0.66      0.69      1434\n",
      "    positive       0.79      0.82      0.80      1578\n",
      "\n",
      "    accuracy                           0.76      4138\n",
      "   macro avg       0.76      0.76      0.76      4138\n",
      "weighted avg       0.76      0.76      0.76      4138\n",
      "\n",
      "auc=0.893 (weighted ovr)\n"
     ]
    },
    {
     "name": "stderr",
     "output_type": "stream",
     "text": [
      "\n"
     ]
    }
   ],
   "source": [
    "run_lstm(tweets_before_landfall(labeled_tweets)) # with negation_hack"
   ]
  },
  {
   "cell_type": "code",
   "execution_count": 65,
   "metadata": {},
   "outputs": [
    {
     "name": "stderr",
     "output_type": "stream",
     "text": [
      "0it [00:00, ?it/s]"
     ]
    },
    {
     "name": "stdout",
     "output_type": "stream",
     "text": [
      "10287 unique tokens\n",
      "1712 terms preserved\n",
      "sequence length from 1 to 78\n"
     ]
    },
    {
     "name": "stderr",
     "output_type": "stream",
     "text": [
      "10it [12:07, 72.76s/it]"
     ]
    },
    {
     "name": "stdout",
     "output_type": "stream",
     "text": [
      "Counter({'neutral': 2006, 'positive': 1727, 'negative': 1267})\n",
      "Counter({'positive': 1860, 'neutral': 1700, 'negative': 1440})\n",
      "              precision    recall  f1-score   support\n",
      "\n",
      "    negative       0.73      0.84      0.78      1267\n",
      "     neutral       0.78      0.67      0.72      2006\n",
      "    positive       0.75      0.81      0.78      1727\n",
      "\n",
      "    accuracy                           0.76      5000\n",
      "   macro avg       0.76      0.77      0.76      5000\n",
      "weighted avg       0.76      0.76      0.76      5000\n",
      "\n",
      "auc=0.888 (weighted ovr)\n"
     ]
    },
    {
     "name": "stderr",
     "output_type": "stream",
     "text": [
      "\n"
     ]
    }
   ],
   "source": [
    "run_lstm(labeled_tweets) # with negation_hack, no conv"
   ]
  },
  {
   "cell_type": "code",
   "execution_count": 64,
   "metadata": {},
   "outputs": [
    {
     "name": "stderr",
     "output_type": "stream",
     "text": [
      "0it [00:00, ?it/s]"
     ]
    },
    {
     "name": "stdout",
     "output_type": "stream",
     "text": [
      "8700 unique tokens\n",
      "1486 terms preserved\n",
      "sequence length from 1 to 78\n"
     ]
    },
    {
     "name": "stderr",
     "output_type": "stream",
     "text": [
      "10it [10:01, 60.10s/it]"
     ]
    },
    {
     "name": "stdout",
     "output_type": "stream",
     "text": [
      "Counter({'positive': 1578, 'neutral': 1434, 'negative': 1126})\n",
      "Counter({'positive': 1629, 'neutral': 1260, 'negative': 1249})\n",
      "              precision    recall  f1-score   support\n",
      "\n",
      "    negative       0.76      0.84      0.80      1126\n",
      "     neutral       0.74      0.65      0.69      1434\n",
      "    positive       0.79      0.82      0.80      1578\n",
      "\n",
      "    accuracy                           0.76      4138\n",
      "   macro avg       0.76      0.77      0.76      4138\n",
      "weighted avg       0.76      0.76      0.76      4138\n",
      "\n",
      "auc=0.890 (weighted ovr)\n"
     ]
    },
    {
     "name": "stderr",
     "output_type": "stream",
     "text": [
      "\n"
     ]
    }
   ],
   "source": [
    "run_lstm(tweets_before_landfall(labeled_tweets)) # with negation_hack, no conv"
   ]
  },
  {
   "cell_type": "markdown",
   "metadata": {},
   "source": [
    "### GloVe"
   ]
  },
  {
   "cell_type": "code",
   "execution_count": 142,
   "metadata": {},
   "outputs": [],
   "source": [
    "glove_file = 'glove.twitter.27B.200d.txt'"
   ]
  },
  {
   "cell_type": "code",
   "execution_count": 143,
   "metadata": {},
   "outputs": [
    {
     "name": "stderr",
     "output_type": "stream",
     "text": [
      "1193514it [00:54, 21834.81it/s]\n"
     ]
    }
   ],
   "source": [
    "word2vec = {}\n",
    "with open(glove_file, encoding='utf8') as file:\n",
    "    for line in tqdm(file):\n",
    "        records = line.split()\n",
    "        word2vec[records[0]] = np.asarray(records[1:], dtype='float32')"
   ]
  },
  {
   "cell_type": "code",
   "execution_count": 144,
   "metadata": {},
   "outputs": [],
   "source": [
    "def get_embedding_matrix(tokenizer, word_vecs, d=200):\n",
    "    embedding_matrix = np.zeros((len(tokenizer.word_index) + 1, d))\n",
    "    for word, index in tokenizer.word_index.items():\n",
    "        if word in word_vecs:\n",
    "            embedding_matrix[index] = word_vecs[word]\n",
    "    return embedding_matrix"
   ]
  },
  {
   "cell_type": "code",
   "execution_count": 118,
   "metadata": {},
   "outputs": [],
   "source": [
    "from keras.layers import Flatten\n",
    "\n",
    "class LSTMModel:\n",
    "    \n",
    "    def __init__(self, \n",
    "        input_shape,\n",
    "        output_len,\n",
    "        embedding_matrix,\n",
    "        n_filters=64,\n",
    "        lstm_units=32\n",
    "    ):\n",
    "        self.input_shape = input_shape\n",
    "        self.output_len = output_len\n",
    "        self.embedding_matrix = embedding_matrix\n",
    "        self.n_filters = n_filters\n",
    "        self.lstm_units = lstm_units\n",
    "        self._build_model()\n",
    "    \n",
    "    def clear(self):\n",
    "        K.clear_session()\n",
    "    \n",
    "    def _build_model(self):\n",
    "        x_input = Input(shape=self.input_shape)\n",
    "        in_dim, out_dim = self.embedding_matrix.shape\n",
    "        embedding = Embedding(in_dim, out_dim, weights=[self.embedding_matrix], input_length=self.input_shape[0], trainable=False)(x_input)\n",
    "        conv = Conv1D(filters=self.n_filters, kernel_size=5, padding='same', activation='relu')(embedding)\n",
    "        pooling = MaxPooling1D(pool_size=3)(conv)\n",
    "        #flatten = Flatten()(pooling)\n",
    "        lstm = LSTM(self.lstm_units)(pooling)\n",
    "        output = Dense(self.output_len, activation='softmax' if self.output_len > 1 else 'sigmoid')(lstm)\n",
    "        \n",
    "        self.model = Model(inputs=x_input, outputs=output)\n",
    "        \n",
    "        self.model.compile(loss='categorical_crossentropy' if self.output_len > 1 else 'binary_crossentropy', \n",
    "                           optimizer='adam', metrics=['accuracy'])\n",
    "\n",
    "    def fit(self, *args, **kwargs):\n",
    "        return self.model.fit(*args, **kwargs)\n",
    "\n",
    "    def predict(self, *args, **kwargs):\n",
    "        return self.model.predict(*args, **kwargs)\n",
    "\n",
    "    def evaluate(self, *args, **kwargs):\n",
    "        return self.model.evaluate(*args, **kwargs)\n",
    "\n",
    "def cv_glove(X, Y, labels, embedding_mat, **kwargs):\n",
    "    class_weight = {i: len(Y) / num / 3 for i, num in enumerate(np.sum(Y, axis=0))}\n",
    "    cv = StratifiedKFold(n_splits=10, shuffle=True, random_state=42)\n",
    "    truths = labels[np.argmax(Y, axis=1)]\n",
    "    probas = np.zeros((len(Y), 3))\n",
    "    for train, test in tqdm(cv.split(X, truths)):\n",
    "        clf = LSTMModel(X.shape[1:], Y.shape[1], embedding_mat)\n",
    "        clf.fit(X[train], Y[train], epochs=6, verbose=0, class_weight=class_weight)\n",
    "        probas[test] = clf.predict(X[test])\n",
    "        clf.clear()\n",
    "    preds = labels[np.argmax(probas, axis=1)]\n",
    "\n",
    "    print(Counter(truths))\n",
    "    print(Counter(preds))\n",
    "    print(classification_report(truths, preds, target_names=labels))\n",
    "    print('auc=%.3f (weighted ovr)' % roc_auc_score(truths, probas, average='weighted', multi_class='ovr', labels=labels))\n",
    "    return preds, probas\n",
    "\n",
    "def run_glove(tweets, word_vecs):\n",
    "    X, Y, classes, tokenizer = get_samples(tweets, neg_hack=False, min_df=2)\n",
    "    embedding_mat = get_embedding_matrix(tokenizer, word_vecs)\n",
    "    preds, probas = cv_glove(X, Y, classes, embedding_mat)"
   ]
  },
  {
   "cell_type": "code",
   "execution_count": 114,
   "metadata": {},
   "outputs": [],
   "source": [
    "def pretest_glove(X, Y, model, class_weight=None):\n",
    "    X_train, X_test, Y_train, Y_test = train_test_split(X, Y, test_size=0.2, random_state=42)\n",
    "    if class_weight == 'balanced':\n",
    "        class_weight = {i: len(Y) / num / 3 for i, num in enumerate(np.sum(Y, axis=0))}\n",
    "    history = model.fit(X_train, Y_train, epochs=20, validation_split=0.2, class_weight=class_weight,\n",
    "                        callbacks=[EarlyStopping(monitor='val_loss', patience=3, min_delta=0.0001)])\n",
    "    scores = model.evaluate(X_test, Y_test)\n",
    "    print('\\n'.join([f'{met}: {val}' for met, val in zip(['loss', 'acc'], scores)]))\n",
    "    plt.title('Accuracy')\n",
    "    plt.plot(history.history['accuracy'], label='train')\n",
    "    plt.plot(history.history['val_accuracy'], label='test')\n",
    "    plt.legend()\n",
    "    plt.show()\n",
    "\n",
    "def run_pretest_glove(tweets, word_vecs):\n",
    "    X, Y, classes, tokenizer = get_samples(tweets, neg_hack=False, min_df=2)\n",
    "    embedding_mat = get_embedding_matrix(tokenizer, word_vecs)\n",
    "    lstm = LSTMModel(X.shape[1:], Y.shape[1], embedding_mat, n_filters=64, lstm_units=64)\n",
    "    pretest_glove(X, Y, lstm, 'balanced')"
   ]
  },
  {
   "cell_type": "code",
   "execution_count": 117,
   "metadata": {},
   "outputs": [
    {
     "name": "stdout",
     "output_type": "stream",
     "text": [
      "10017 unique tokens\n",
      "3170 terms preserved\n",
      "sequence length from 1 to 79\n",
      "Train on 3200 samples, validate on 800 samples\n",
      "Epoch 1/20\n",
      "3200/3200 [==============================] - 6s 2ms/step - loss: 0.9547 - accuracy: 0.5350 - val_loss: 0.8648 - val_accuracy: 0.6288\n",
      "Epoch 2/20\n",
      "3200/3200 [==============================] - 3s 951us/step - loss: 0.7126 - accuracy: 0.6862 - val_loss: 0.7451 - val_accuracy: 0.7063\n",
      "Epoch 3/20\n",
      "3200/3200 [==============================] - 3s 1ms/step - loss: 0.5685 - accuracy: 0.7650 - val_loss: 0.7245 - val_accuracy: 0.7063\n",
      "Epoch 4/20\n",
      "3200/3200 [==============================] - 3s 892us/step - loss: 0.4458 - accuracy: 0.8197 - val_loss: 0.7262 - val_accuracy: 0.7100\n",
      "Epoch 5/20\n",
      "3200/3200 [==============================] - 3s 1ms/step - loss: 0.3496 - accuracy: 0.8497 - val_loss: 0.7976 - val_accuracy: 0.7138\n",
      "Epoch 6/20\n",
      "3200/3200 [==============================] - 4s 1ms/step - loss: 0.2569 - accuracy: 0.9022 - val_loss: 0.7778 - val_accuracy: 0.7050\n",
      "1000/1000 [==============================] - 1s 558us/step\n",
      "loss: 0.882515018939972\n",
      "acc: 0.6940000057220459\n"
     ]
    },
    {
     "data": {
      "image/png": "[encoded data removed]",
      "text/plain": [
       "<Figure size 432x288 with 1 Axes>"
      ]
     },
     "metadata": {
      "needs_background": "light"
     },
     "output_type": "display_data"
    }
   ],
   "source": [
    "run_pretest_glove(labeled_tweets, word2vec) # 64, 64"
   ]
  },
  {
   "cell_type": "code",
   "execution_count": 109,
   "metadata": {},
   "outputs": [
    {
     "name": "stdout",
     "output_type": "stream",
     "text": [
      "10017 unique tokens\n",
      "10016 terms preserved\n",
      "sequence length from 1 to 79\n",
      "5490\n",
      "Train on 3200 samples, validate on 800 samples\n",
      "Epoch 1/20\n",
      "3200/3200 [==============================] - 6s 2ms/step - loss: 0.9834 - accuracy: 0.5050 - val_loss: 0.9153 - val_accuracy: 0.6325\n",
      "Epoch 2/20\n",
      "3200/3200 [==============================] - 3s 898us/step - loss: 0.7129 - accuracy: 0.6988 - val_loss: 0.6850 - val_accuracy: 0.7262\n",
      "Epoch 3/20\n",
      "3200/3200 [==============================] - 3s 1ms/step - loss: 0.5420 - accuracy: 0.7747 - val_loss: 0.6622 - val_accuracy: 0.7225\n",
      "Epoch 4/20\n",
      "3200/3200 [==============================] - 3s 976us/step - loss: 0.4096 - accuracy: 0.8384 - val_loss: 0.6647 - val_accuracy: 0.7350\n",
      "Epoch 5/20\n",
      "3200/3200 [==============================] - 3s 867us/step - loss: 0.2940 - accuracy: 0.8869 - val_loss: 0.7264 - val_accuracy: 0.7475\n",
      "Epoch 6/20\n",
      "3200/3200 [==============================] - 3s 1ms/step - loss: 0.2299 - accuracy: 0.9125 - val_loss: 0.8076 - val_accuracy: 0.7225\n",
      "1000/1000 [==============================] - 0s 492us/step\n",
      "loss: 0.907120491027832\n",
      "acc: 0.699999988079071\n"
     ]
    },
    {
     "data": {
      "image/png": "[encoded data removed]",
      "text/plain": [
       "<Figure size 432x288 with 1 Axes>"
      ]
     },
     "metadata": {
      "needs_background": "light"
     },
     "output_type": "display_data"
    }
   ],
   "source": [
    "run_pretest_glove(labeled_tweets, word2vec)"
   ]
  },
  {
   "cell_type": "code",
   "execution_count": 119,
   "metadata": {},
   "outputs": [
    {
     "name": "stderr",
     "output_type": "stream",
     "text": [
      "0it [00:00, ?it/s]"
     ]
    },
    {
     "name": "stdout",
     "output_type": "stream",
     "text": [
      "10017 unique tokens\n",
      "3170 terms preserved\n",
      "sequence length from 1 to 79\n"
     ]
    },
    {
     "name": "stderr",
     "output_type": "stream",
     "text": [
      "10it [04:56, 29.70s/it]\n"
     ]
    },
    {
     "name": "stdout",
     "output_type": "stream",
     "text": [
      "Counter({'neutral': 2006, 'positive': 1727, 'negative': 1267})\n",
      "Counter({'positive': 1893, 'neutral': 1841, 'negative': 1266})\n",
      "              precision    recall  f1-score   support\n",
      "\n",
      "    negative       0.72      0.72      0.72      1267\n",
      "     neutral       0.75      0.69      0.72      2006\n",
      "    positive       0.73      0.80      0.77      1727\n",
      "\n",
      "    accuracy                           0.74      5000\n",
      "   macro avg       0.73      0.74      0.73      5000\n",
      "weighted avg       0.74      0.74      0.73      5000\n",
      "\n",
      "auc=0.878 (weighted ovr)\n"
     ]
    }
   ],
   "source": [
    "run_glove(labeled_tweets, word2vec)"
   ]
  },
  {
   "cell_type": "code",
   "execution_count": 123,
   "metadata": {},
   "outputs": [
    {
     "name": "stderr",
     "output_type": "stream",
     "text": [
      "0it [00:00, ?it/s]"
     ]
    },
    {
     "name": "stdout",
     "output_type": "stream",
     "text": [
      "8468 unique tokens\n",
      "2733 terms preserved\n",
      "sequence length from 1 to 79\n"
     ]
    },
    {
     "name": "stderr",
     "output_type": "stream",
     "text": [
      "10it [03:33, 21.33s/it]"
     ]
    },
    {
     "name": "stdout",
     "output_type": "stream",
     "text": [
      "Counter({'positive': 1578, 'neutral': 1434, 'negative': 1126})\n",
      "Counter({'positive': 1608, 'neutral': 1285, 'negative': 1245})\n",
      "              precision    recall  f1-score   support\n",
      "\n",
      "    negative       0.71      0.78      0.74      1126\n",
      "     neutral       0.68      0.61      0.65      1434\n",
      "    positive       0.77      0.78      0.77      1578\n",
      "\n",
      "    accuracy                           0.72      4138\n",
      "   macro avg       0.72      0.73      0.72      4138\n",
      "weighted avg       0.72      0.72      0.72      4138\n",
      "\n",
      "auc=0.876 (weighted ovr)\n"
     ]
    },
    {
     "name": "stderr",
     "output_type": "stream",
     "text": [
      "\n"
     ]
    }
   ],
   "source": [
    "run_glove(tweets_before_landfall(labeled_tweets), word2vec) # 100d"
   ]
  },
  {
   "cell_type": "code",
   "execution_count": 137,
   "metadata": {},
   "outputs": [
    {
     "name": "stderr",
     "output_type": "stream",
     "text": [
      "0it [00:00, ?it/s]"
     ]
    },
    {
     "name": "stdout",
     "output_type": "stream",
     "text": [
      "8468 unique tokens\n",
      "2733 terms preserved\n",
      "sequence length from 1 to 79\n"
     ]
    },
    {
     "name": "stderr",
     "output_type": "stream",
     "text": [
      "10it [03:37, 21.79s/it]"
     ]
    },
    {
     "name": "stdout",
     "output_type": "stream",
     "text": [
      "Counter({'positive': 1578, 'neutral': 1434, 'negative': 1126})\n",
      "Counter({'positive': 1591, 'negative': 1348, 'neutral': 1199})\n",
      "              precision    recall  f1-score   support\n",
      "\n",
      "    negative       0.64      0.77      0.70      1126\n",
      "     neutral       0.68      0.57      0.62      1434\n",
      "    positive       0.77      0.78      0.78      1578\n",
      "\n",
      "    accuracy                           0.70      4138\n",
      "   macro avg       0.70      0.71      0.70      4138\n",
      "weighted avg       0.71      0.70      0.70      4138\n",
      "\n",
      "auc=0.862 (weighted ovr)\n"
     ]
    },
    {
     "name": "stderr",
     "output_type": "stream",
     "text": [
      "\n"
     ]
    }
   ],
   "source": [
    "run_glove(tweets_before_landfall(labeled_tweets), word2vec) # 50d"
   ]
  },
  {
   "cell_type": "code",
   "execution_count": 145,
   "metadata": {},
   "outputs": [
    {
     "name": "stderr",
     "output_type": "stream",
     "text": [
      "0it [00:00, ?it/s]"
     ]
    },
    {
     "name": "stdout",
     "output_type": "stream",
     "text": [
      "8468 unique tokens\n",
      "2733 terms preserved\n",
      "sequence length from 1 to 79\n"
     ]
    },
    {
     "name": "stderr",
     "output_type": "stream",
     "text": [
      "10it [03:38, 21.88s/it]"
     ]
    },
    {
     "name": "stdout",
     "output_type": "stream",
     "text": [
      "Counter({'positive': 1578, 'neutral': 1434, 'negative': 1126})\n",
      "Counter({'positive': 1633, 'neutral': 1371, 'negative': 1134})\n",
      "              precision    recall  f1-score   support\n",
      "\n",
      "    negative       0.74      0.75      0.75      1126\n",
      "     neutral       0.70      0.67      0.69      1434\n",
      "    positive       0.79      0.81      0.80      1578\n",
      "\n",
      "    accuracy                           0.75      4138\n",
      "   macro avg       0.74      0.74      0.74      4138\n",
      "weighted avg       0.74      0.75      0.75      4138\n",
      "\n",
      "auc=0.889 (weighted ovr)\n"
     ]
    },
    {
     "name": "stderr",
     "output_type": "stream",
     "text": [
      "\n"
     ]
    }
   ],
   "source": [
    "run_glove(tweets_before_landfall(labeled_tweets), word2vec) # 200d"
   ]
  },
  {
   "cell_type": "code",
   "execution_count": null,
   "metadata": {},
   "outputs": [],
   "source": []
  }
 ],
 "metadata": {
  "kernelspec": {
   "display_name": "Python 3 (ipykernel)",
   "language": "python",
   "name": "python3"
  },
  "language_info": {
   "codemirror_mode": {
    "name": "ipython",
    "version": 3
   },
   "file_extension": ".py",
   "mimetype": "text/x-python",
   "name": "python",
   "nbconvert_exporter": "python",
   "pygments_lexer": "ipython3",
   "version": "3.9.10"
  }
 },
 "nbformat": 4,
 "nbformat_minor": 4
}
